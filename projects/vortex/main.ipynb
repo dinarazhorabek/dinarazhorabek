{
  "cells": [
    {
      "attachments": {},
      "cell_type": "markdown",
      "metadata": {},
      "source": [
        "---\n",
        "title: \"Vortex–Sentiment Adaptive Volatility (VSAV) Strategy\"\n",
        "author:\n",
        "  - name: Group Data Oracles\n",
        "    affiliations:\n",
        "      - name: Boston University\n",
        "        city: Boston\n",
        "        state: MA\n",
        "format:\n",
        "  html:\n",
        "    toc: true\n",
        "    css: styles.css\n",
        "    html-math-method: katex\n",
        "    embed-resources: false\n",
        "    code-fold: true\n",
        "jupyter: python3\n",
        "execute:\n",
        "  eval: true\n",
        "---\n"
      ]
    },
    {
      "attachments": {},
      "cell_type": "markdown",
      "metadata": {},
      "source": [
        "## Importing Necessary Libraries for Analysis"
      ]
    },
    {
      "cell_type": "code",
      "execution_count": 1,
      "metadata": {
        "id": "r3E6BfLihNAG"
      },
      "outputs": [
        {
          "name": "stderr",
          "output_type": "stream",
          "text": [
            "/Users/dinarazhorabek/Library/Python/3.9/lib/python/site-packages/urllib3/__init__.py:35: NotOpenSSLWarning: urllib3 v2 only supports OpenSSL 1.1.1+, currently the 'ssl' module is compiled with 'LibreSSL 2.8.3'. See: https://github.com/urllib3/urllib3/issues/3020\n",
            "  warnings.warn(\n"
          ]
        }
      ],
      "source": [
        "import yfinance as yf  # For downloading financial data\n",
        "import numpy as np      # For numerical operations\n",
        "import pandas as pd     # For data manipulation\n",
        "import requests # For downloading the API data\n",
        "import numpy as np \n",
        "import plotly.graph_objects as go\n",
        "import plotly.express as px # Import the Plotly Express module for interactive visualization\n",
        "import json\n",
        "import vectorbt as vbt\n",
        "from plotly.subplots import make_subplots\n",
        "import streamlit as st\n",
        "\n",
        "import plotly.io as pio\n",
        "pio.renderers.default = 'iframe_connected'"
      ]
    },
    {
      "attachments": {},
      "cell_type": "markdown",
      "metadata": {},
      "source": [
        "## Data Collection"
      ]
    },
    {
      "attachments": {},
      "cell_type": "markdown",
      "metadata": {},
      "source": [
        "### Fetch daily OHLCV data "
      ]
    },
    {
      "cell_type": "code",
      "execution_count": 2,
      "metadata": {
        "colab": {
          "base_uri": "https://localhost:8080/"
        },
        "id": "3PAqq4x7hhHQ",
        "outputId": "d2b18763-b874-471e-fd06-1cc141c449e3"
      },
      "outputs": [
        {
          "name": "stdout",
          "output_type": "stream",
          "text": [
            "YF.download() has changed argument auto_adjust default to True\n"
          ]
        },
        {
          "name": "stderr",
          "output_type": "stream",
          "text": [
            "[*********************100%***********************]  1 of 1 completed\n",
            "[*********************100%***********************]  1 of 1 completed\n",
            "[*********************100%***********************]  1 of 1 completed\n"
          ]
        }
      ],
      "source": [
        "# Data for the TSLA, XLY, and SPY tickers is retrieved from the Yahoo Finance library, covering the period from January 1, 2019, \n",
        "# to March 5, 2025.\n",
        "tsla = yf.download('TSLA', start='2019-01-01', end='2025-03-05') \n",
        "xly = yf.download('XLY', start='2019-01-01', end='2025-03-05')\n",
        "spy = yf.download('SPY', start='2019-01-01', end='2025-03-05')"
      ]
    },
    {
      "cell_type": "code",
      "execution_count": 3,
      "metadata": {},
      "outputs": [],
      "source": [
        "def multiindex_to_singleindex(df):\n",
        "    df.columns = ['_'.join(col).strip() for col in df.columns.values]\n",
        "    return df"
      ]
    },
    {
      "cell_type": "code",
      "execution_count": 4,
      "metadata": {},
      "outputs": [],
      "source": [
        "tsla = multiindex_to_singleindex(tsla)\n",
        "spy = multiindex_to_singleindex(spy)\n",
        "xly = multiindex_to_singleindex(xly)"
      ]
    },
    {
      "cell_type": "code",
      "execution_count": 5,
      "metadata": {
        "colab": {
          "base_uri": "https://localhost:8080/"
        },
        "id": "fPlkUnohhxar",
        "outputId": "ffaa84e9-b819-44a7-f26e-e2a55a32d83e"
      },
      "outputs": [
        {
          "name": "stdout",
          "output_type": "stream",
          "text": [
            "<class 'pandas.core.frame.DataFrame'>\n",
            "DatetimeIndex: 1551 entries, 2019-01-02 to 2025-03-04\n",
            "Data columns (total 5 columns):\n",
            " #   Column       Non-Null Count  Dtype  \n",
            "---  ------       --------------  -----  \n",
            " 0   Close_TSLA   1551 non-null   float64\n",
            " 1   High_TSLA    1551 non-null   float64\n",
            " 2   Low_TSLA     1551 non-null   float64\n",
            " 3   Open_TSLA    1551 non-null   float64\n",
            " 4   Volume_TSLA  1551 non-null   int64  \n",
            "dtypes: float64(4), int64(1)\n",
            "memory usage: 72.7 KB\n"
          ]
        }
      ],
      "source": [
        "# Displays a summary of the TSLA DataFrame, including column names, data types, non-null counts, and memory usage.\n",
        "tsla.info()"
      ]
    },
    {
      "cell_type": "code",
      "execution_count": 6,
      "metadata": {
        "colab": {
          "base_uri": "https://localhost:8080/",
          "height": 266
        },
        "id": "MIzTpjBXhzbT",
        "outputId": "6e7bc69d-4e6d-421f-99e7-c4ad1fb3ad76"
      },
      "outputs": [
        {
          "name": "stdout",
          "output_type": "stream",
          "text": [
            "<class 'pandas.core.frame.DataFrame'>\n",
            "DatetimeIndex: 1551 entries, 2019-01-02 to 2025-03-04\n",
            "Data columns (total 5 columns):\n",
            " #   Column      Non-Null Count  Dtype  \n",
            "---  ------      --------------  -----  \n",
            " 0   Close_XLY   1551 non-null   float64\n",
            " 1   High_XLY    1551 non-null   float64\n",
            " 2   Low_XLY     1551 non-null   float64\n",
            " 3   Open_XLY    1551 non-null   float64\n",
            " 4   Volume_XLY  1551 non-null   int64  \n",
            "dtypes: float64(4), int64(1)\n",
            "memory usage: 72.7 KB\n"
          ]
        }
      ],
      "source": [
        "# Displays a summary of the XLY DataFrame, including column names, data types, non-null counts, and memory usage.\n",
        "xly.info()"
      ]
    },
    {
      "cell_type": "code",
      "execution_count": 7,
      "metadata": {},
      "outputs": [
        {
          "name": "stdout",
          "output_type": "stream",
          "text": [
            "<class 'pandas.core.frame.DataFrame'>\n",
            "DatetimeIndex: 1551 entries, 2019-01-02 to 2025-03-04\n",
            "Data columns (total 5 columns):\n",
            " #   Column      Non-Null Count  Dtype  \n",
            "---  ------      --------------  -----  \n",
            " 0   Close_SPY   1551 non-null   float64\n",
            " 1   High_SPY    1551 non-null   float64\n",
            " 2   Low_SPY     1551 non-null   float64\n",
            " 3   Open_SPY    1551 non-null   float64\n",
            " 4   Volume_SPY  1551 non-null   int64  \n",
            "dtypes: float64(4), int64(1)\n",
            "memory usage: 72.7 KB\n"
          ]
        }
      ],
      "source": [
        "# Displays a summary of the SPY DataFrame, including column names, data types, non-null counts, and memory usage.\n",
        "spy.info()"
      ]
    },
    {
      "attachments": {},
      "cell_type": "markdown",
      "metadata": {},
      "source": [
        "### Fetch sentiment scores from the API"
      ]
    },
    {
      "cell_type": "code",
      "execution_count": 8,
      "metadata": {},
      "outputs": [],
      "source": [
        "def get_news_sentiment(ticker, start_date, end_date, limit, api_key):\n",
        "    url = f'https://www.alphavantage.co/query?function=NEWS_SENTIMENT&time_from={start_date}&time_to={end_date}&limit={limit}&tickers={ticker}&apikey={api_key}'\n",
        "    response = requests.get(url)\n",
        "    if response.status_code == 200:\n",
        "        sentiment_data = response.json()\n",
        "\n",
        "        with open(f'{ticker}_sentiment_raw.json', \"w\") as f:\n",
        "            json.dump(sentiment_data, f, indent=4)\n",
        "        # sentiment_df = pd.DataFrame(sentiment_data['feed'])\n",
        "        return \"Full sentiment JSON saved ✅\"\n",
        "    else:\n",
        "        print(\"API call failed:\", response.status_code)\n",
        "        return None"
      ]
    },
    {
      "cell_type": "code",
      "execution_count": 9,
      "metadata": {},
      "outputs": [
        {
          "data": {
            "text/plain": [
              "'Full sentiment JSON saved ✅'"
            ]
          },
          "execution_count": 9,
          "metadata": {},
          "output_type": "execute_result"
        }
      ],
      "source": [
        "get_news_sentiment('TSLA', '20250101T0130', '20250301T0130', 1000, 'PNM5EHRALIOT1CKJ')"
      ]
    },
    {
      "attachments": {},
      "cell_type": "markdown",
      "metadata": {},
      "source": [
        "## Indicator Calculation"
      ]
    },
    {
      "attachments": {},
      "cell_type": "markdown",
      "metadata": {},
      "source": [
        "### Compute VI+ and VI-"
      ]
    },
    {
      "cell_type": "code",
      "execution_count": 10,
      "metadata": {
        "id": "7vPyBW12ov2l"
      },
      "outputs": [],
      "source": [
        "# Defines a function to calculate the Vortex Indicator (VI) for a given DataFrame and ticker symbol.\n",
        "# The calculation uses a default lookback period of 14 days unless specified otherwise.\n",
        "def calculate_vortex(df, value, n=14):\n",
        "    # Extracts the high, low, and close price series for the specified ticker.\n",
        "    high = df[(\"High_\"+value)]\n",
        "    low = df[(\"Low_\"+value)]\n",
        "    close = df[(\"Close_\"+value)]\n",
        "\n",
        "    # Calculates the Vortex Movement values:\n",
        "    # VM+ = absolute difference between today's high and yesterday's low\n",
        "    # VM− = absolute difference between today's low and yesterday's high\n",
        "    vm_plus = abs(high - low.shift(1))     # |Today's High – Yesterday’s Low|\n",
        "    vm_minus = abs(low - high.shift(1))    # |Today's Low – Yesterday’s High|\n",
        "\n",
        "    # Computes the True Range (TR) as the maximum of:\n",
        "    # - High - Low\n",
        "    # - Absolute difference between High and Previous Close\n",
        "    # - Absolute difference between Low and Previous Close\n",
        "    tr = pd.concat([\n",
        "        high - low,\n",
        "        abs(high - close.shift(1)),\n",
        "        abs(low - close.shift(1))\n",
        "    ], axis=1).max(axis=1)\n",
        "\n",
        "    # Applies a rolling window to compute the n-period sum of VM+ and VM− values\n",
        "    # and the corresponding True Range values.\n",
        "    sum_vm_plus = vm_plus.rolling(window=n).sum()\n",
        "    sum_vm_minus = vm_minus.rolling(window=n).sum()\n",
        "    sum_tr = tr.rolling(window=n).sum()\n",
        "\n",
        "    # Calculates the Vortex Indicator components:\n",
        "    # VI+ = sum of VM+ over n periods divided by sum of TR over n periods\n",
        "    # VI− = sum of VM− over n periods divided by sum of TR over n periods\n",
        "    vi_plus = sum_vm_plus / sum_tr\n",
        "    vi_minus = sum_vm_minus / sum_tr\n",
        "\n",
        "    # Returns the VI+ and VI− series as output.\n",
        "    return vi_plus, vi_minus"
      ]
    },
    {
      "cell_type": "code",
      "execution_count": 11,
      "metadata": {
        "colab": {
          "base_uri": "https://localhost:8080/",
          "height": 484
        },
        "id": "oh8LmXPFpDqO",
        "outputId": "d20f0c8a-1822-4449-8396-a9d5113f3deb"
      },
      "outputs": [],
      "source": [
        "# Calculates the Vortex Indicator values for TSLA and stores the results as new columns in the DataFrame.\n",
        "tsla['VI+'], tsla['VI-'] = calculate_vortex(tsla, 'TSLA')\n",
        "\n",
        "# Calculates the Vortex Indicator values for XLY and stores the results as new columns in the DataFrame.\n",
        "xly['VI+'], xly['VI-'] = calculate_vortex(xly, 'XLY')\n",
        "\n",
        "# Calculates the Vortex Indicator values for SPY and stores the results as new columns in the DataFrame.\n",
        "spy['VI+'], spy['VI-'] = calculate_vortex(spy, 'SPY')"
      ]
    },
    {
      "cell_type": "code",
      "execution_count": 12,
      "metadata": {},
      "outputs": [
        {
          "data": {
            "text/html": [
              "<div>\n",
              "<style scoped>\n",
              "    .dataframe tbody tr th:only-of-type {\n",
              "        vertical-align: middle;\n",
              "    }\n",
              "\n",
              "    .dataframe tbody tr th {\n",
              "        vertical-align: top;\n",
              "    }\n",
              "\n",
              "    .dataframe thead th {\n",
              "        text-align: right;\n",
              "    }\n",
              "</style>\n",
              "<table border=\"1\" class=\"dataframe\">\n",
              "  <thead>\n",
              "    <tr style=\"text-align: right;\">\n",
              "      <th></th>\n",
              "      <th>Close_TSLA</th>\n",
              "      <th>High_TSLA</th>\n",
              "      <th>Low_TSLA</th>\n",
              "      <th>Open_TSLA</th>\n",
              "      <th>Volume_TSLA</th>\n",
              "      <th>VI+</th>\n",
              "      <th>VI-</th>\n",
              "    </tr>\n",
              "    <tr>\n",
              "      <th>Date</th>\n",
              "      <th></th>\n",
              "      <th></th>\n",
              "      <th></th>\n",
              "      <th></th>\n",
              "      <th></th>\n",
              "      <th></th>\n",
              "      <th></th>\n",
              "    </tr>\n",
              "  </thead>\n",
              "  <tbody>\n",
              "    <tr>\n",
              "      <th>2019-01-02</th>\n",
              "      <td>20.674667</td>\n",
              "      <td>21.008667</td>\n",
              "      <td>19.920000</td>\n",
              "      <td>20.406668</td>\n",
              "      <td>174879000</td>\n",
              "      <td>NaN</td>\n",
              "      <td>NaN</td>\n",
              "    </tr>\n",
              "    <tr>\n",
              "      <th>2019-01-03</th>\n",
              "      <td>20.024000</td>\n",
              "      <td>20.626667</td>\n",
              "      <td>19.825333</td>\n",
              "      <td>20.466667</td>\n",
              "      <td>104478000</td>\n",
              "      <td>NaN</td>\n",
              "      <td>NaN</td>\n",
              "    </tr>\n",
              "    <tr>\n",
              "      <th>2019-01-04</th>\n",
              "      <td>21.179333</td>\n",
              "      <td>21.200001</td>\n",
              "      <td>20.181999</td>\n",
              "      <td>20.400000</td>\n",
              "      <td>110911500</td>\n",
              "      <td>NaN</td>\n",
              "      <td>NaN</td>\n",
              "    </tr>\n",
              "    <tr>\n",
              "      <th>2019-01-07</th>\n",
              "      <td>22.330667</td>\n",
              "      <td>22.449333</td>\n",
              "      <td>21.183332</td>\n",
              "      <td>21.448000</td>\n",
              "      <td>113268000</td>\n",
              "      <td>NaN</td>\n",
              "      <td>NaN</td>\n",
              "    </tr>\n",
              "    <tr>\n",
              "      <th>2019-01-08</th>\n",
              "      <td>22.356667</td>\n",
              "      <td>22.934000</td>\n",
              "      <td>21.801332</td>\n",
              "      <td>22.797333</td>\n",
              "      <td>105127500</td>\n",
              "      <td>NaN</td>\n",
              "      <td>NaN</td>\n",
              "    </tr>\n",
              "    <tr>\n",
              "      <th>2019-01-09</th>\n",
              "      <td>22.568666</td>\n",
              "      <td>22.900000</td>\n",
              "      <td>22.098000</td>\n",
              "      <td>22.366667</td>\n",
              "      <td>81493500</td>\n",
              "      <td>NaN</td>\n",
              "      <td>NaN</td>\n",
              "    </tr>\n",
              "    <tr>\n",
              "      <th>2019-01-10</th>\n",
              "      <td>22.997999</td>\n",
              "      <td>23.025999</td>\n",
              "      <td>22.119333</td>\n",
              "      <td>22.293333</td>\n",
              "      <td>90846000</td>\n",
              "      <td>NaN</td>\n",
              "      <td>NaN</td>\n",
              "    </tr>\n",
              "    <tr>\n",
              "      <th>2019-01-11</th>\n",
              "      <td>23.150667</td>\n",
              "      <td>23.227333</td>\n",
              "      <td>22.584667</td>\n",
              "      <td>22.806000</td>\n",
              "      <td>75586500</td>\n",
              "      <td>NaN</td>\n",
              "      <td>NaN</td>\n",
              "    </tr>\n",
              "    <tr>\n",
              "      <th>2019-01-14</th>\n",
              "      <td>22.293333</td>\n",
              "      <td>22.833332</td>\n",
              "      <td>22.266666</td>\n",
              "      <td>22.825333</td>\n",
              "      <td>78709500</td>\n",
              "      <td>NaN</td>\n",
              "      <td>NaN</td>\n",
              "    </tr>\n",
              "    <tr>\n",
              "      <th>2019-01-15</th>\n",
              "      <td>22.962000</td>\n",
              "      <td>23.253332</td>\n",
              "      <td>22.299999</td>\n",
              "      <td>22.333332</td>\n",
              "      <td>90849000</td>\n",
              "      <td>NaN</td>\n",
              "      <td>NaN</td>\n",
              "    </tr>\n",
              "    <tr>\n",
              "      <th>2019-01-16</th>\n",
              "      <td>23.070000</td>\n",
              "      <td>23.466667</td>\n",
              "      <td>22.900000</td>\n",
              "      <td>22.985332</td>\n",
              "      <td>70375500</td>\n",
              "      <td>NaN</td>\n",
              "      <td>NaN</td>\n",
              "    </tr>\n",
              "    <tr>\n",
              "      <th>2019-01-17</th>\n",
              "      <td>23.153999</td>\n",
              "      <td>23.433332</td>\n",
              "      <td>22.943333</td>\n",
              "      <td>23.080667</td>\n",
              "      <td>55150500</td>\n",
              "      <td>NaN</td>\n",
              "      <td>NaN</td>\n",
              "    </tr>\n",
              "    <tr>\n",
              "      <th>2019-01-18</th>\n",
              "      <td>20.150667</td>\n",
              "      <td>21.808666</td>\n",
              "      <td>19.982000</td>\n",
              "      <td>21.533333</td>\n",
              "      <td>362262000</td>\n",
              "      <td>NaN</td>\n",
              "      <td>NaN</td>\n",
              "    </tr>\n",
              "    <tr>\n",
              "      <th>2019-01-22</th>\n",
              "      <td>19.927999</td>\n",
              "      <td>20.533333</td>\n",
              "      <td>19.700001</td>\n",
              "      <td>20.321333</td>\n",
              "      <td>181000500</td>\n",
              "      <td>NaN</td>\n",
              "      <td>NaN</td>\n",
              "    </tr>\n",
              "    <tr>\n",
              "      <th>2019-01-23</th>\n",
              "      <td>19.172667</td>\n",
              "      <td>19.633333</td>\n",
              "      <td>18.779333</td>\n",
              "      <td>19.500000</td>\n",
              "      <td>187950000</td>\n",
              "      <td>0.938520</td>\n",
              "      <td>0.946160</td>\n",
              "    </tr>\n",
              "    <tr>\n",
              "      <th>2019-01-24</th>\n",
              "      <td>19.434000</td>\n",
              "      <td>19.578667</td>\n",
              "      <td>18.618668</td>\n",
              "      <td>18.868668</td>\n",
              "      <td>120183000</td>\n",
              "      <td>0.937771</td>\n",
              "      <td>0.927867</td>\n",
              "    </tr>\n",
              "    <tr>\n",
              "      <th>2019-01-25</th>\n",
              "      <td>19.802668</td>\n",
              "      <td>19.901333</td>\n",
              "      <td>19.303333</td>\n",
              "      <td>19.625999</td>\n",
              "      <td>108744000</td>\n",
              "      <td>0.969095</td>\n",
              "      <td>0.953411</td>\n",
              "    </tr>\n",
              "    <tr>\n",
              "      <th>2019-01-28</th>\n",
              "      <td>19.758667</td>\n",
              "      <td>19.830667</td>\n",
              "      <td>19.183332</td>\n",
              "      <td>19.527332</td>\n",
              "      <td>96349500</td>\n",
              "      <td>0.886399</td>\n",
              "      <td>1.047633</td>\n",
              "    </tr>\n",
              "    <tr>\n",
              "      <th>2019-01-29</th>\n",
              "      <td>19.830667</td>\n",
              "      <td>19.903999</td>\n",
              "      <td>19.453333</td>\n",
              "      <td>19.684668</td>\n",
              "      <td>69325500</td>\n",
              "      <td>0.853825</td>\n",
              "      <td>1.081611</td>\n",
              "    </tr>\n",
              "    <tr>\n",
              "      <th>2019-01-30</th>\n",
              "      <td>20.584667</td>\n",
              "      <td>20.600000</td>\n",
              "      <td>19.899332</td>\n",
              "      <td>20.030001</td>\n",
              "      <td>168754500</td>\n",
              "      <td>0.859650</td>\n",
              "      <td>1.020518</td>\n",
              "    </tr>\n",
              "  </tbody>\n",
              "</table>\n",
              "</div>"
            ],
            "text/plain": [
              "            Close_TSLA  High_TSLA   Low_TSLA  Open_TSLA  Volume_TSLA  \\\n",
              "Date                                                                   \n",
              "2019-01-02   20.674667  21.008667  19.920000  20.406668    174879000   \n",
              "2019-01-03   20.024000  20.626667  19.825333  20.466667    104478000   \n",
              "2019-01-04   21.179333  21.200001  20.181999  20.400000    110911500   \n",
              "2019-01-07   22.330667  22.449333  21.183332  21.448000    113268000   \n",
              "2019-01-08   22.356667  22.934000  21.801332  22.797333    105127500   \n",
              "2019-01-09   22.568666  22.900000  22.098000  22.366667     81493500   \n",
              "2019-01-10   22.997999  23.025999  22.119333  22.293333     90846000   \n",
              "2019-01-11   23.150667  23.227333  22.584667  22.806000     75586500   \n",
              "2019-01-14   22.293333  22.833332  22.266666  22.825333     78709500   \n",
              "2019-01-15   22.962000  23.253332  22.299999  22.333332     90849000   \n",
              "2019-01-16   23.070000  23.466667  22.900000  22.985332     70375500   \n",
              "2019-01-17   23.153999  23.433332  22.943333  23.080667     55150500   \n",
              "2019-01-18   20.150667  21.808666  19.982000  21.533333    362262000   \n",
              "2019-01-22   19.927999  20.533333  19.700001  20.321333    181000500   \n",
              "2019-01-23   19.172667  19.633333  18.779333  19.500000    187950000   \n",
              "2019-01-24   19.434000  19.578667  18.618668  18.868668    120183000   \n",
              "2019-01-25   19.802668  19.901333  19.303333  19.625999    108744000   \n",
              "2019-01-28   19.758667  19.830667  19.183332  19.527332     96349500   \n",
              "2019-01-29   19.830667  19.903999  19.453333  19.684668     69325500   \n",
              "2019-01-30   20.584667  20.600000  19.899332  20.030001    168754500   \n",
              "\n",
              "                 VI+       VI-  \n",
              "Date                            \n",
              "2019-01-02       NaN       NaN  \n",
              "2019-01-03       NaN       NaN  \n",
              "2019-01-04       NaN       NaN  \n",
              "2019-01-07       NaN       NaN  \n",
              "2019-01-08       NaN       NaN  \n",
              "2019-01-09       NaN       NaN  \n",
              "2019-01-10       NaN       NaN  \n",
              "2019-01-11       NaN       NaN  \n",
              "2019-01-14       NaN       NaN  \n",
              "2019-01-15       NaN       NaN  \n",
              "2019-01-16       NaN       NaN  \n",
              "2019-01-17       NaN       NaN  \n",
              "2019-01-18       NaN       NaN  \n",
              "2019-01-22       NaN       NaN  \n",
              "2019-01-23  0.938520  0.946160  \n",
              "2019-01-24  0.937771  0.927867  \n",
              "2019-01-25  0.969095  0.953411  \n",
              "2019-01-28  0.886399  1.047633  \n",
              "2019-01-29  0.853825  1.081611  \n",
              "2019-01-30  0.859650  1.020518  "
            ]
          },
          "execution_count": 12,
          "metadata": {},
          "output_type": "execute_result"
        }
      ],
      "source": [
        "# Displays the first 20 rows of the TSLA DataFrame to provide an initial overview of its structure and content with the new function applied.\n",
        "tsla.head(20)"
      ]
    },
    {
      "attachments": {},
      "cell_type": "markdown",
      "metadata": {},
      "source": [
        "### Calculate Volume-Weighted Sentiment "
      ]
    },
    {
      "cell_type": "code",
      "execution_count": 13,
      "metadata": {},
      "outputs": [],
      "source": [
        "def json_reader(ticker):\n",
        "    with open(f'{ticker}_sentiment_raw.json', \"r\") as f:\n",
        "        sentiment_json_ticker = json.load(f)\n",
        "        sentiment_feed = sentiment_json_ticker.get(\"feed\", [])\n",
        "        sentiment_data = []\n",
        "        # Iterate through each item in the sentiment feed to extract relevant fields\n",
        "        for item in sentiment_feed:\n",
        "            try:\n",
        "                sentiment_data.append({\n",
        "                    # Convert the timestamp to pandas datetime for proper indexing\n",
        "                    \"time_published\": pd.to_datetime(item[\"time_published\"]),\n",
        "                    # Convert the sentiment score string to float\n",
        "                    \"sentiment_score\": float(item[\"overall_sentiment_score\"]),\n",
        "                    # Store the sentiment label (e.g., Positive, Neutral, Negative)\n",
        "                    \"sentiment_label\": item[\"overall_sentiment_label\"],\n",
        "                })\n",
        "            except (KeyError, ValueError, TypeError):\n",
        "                # Skip malformed or incomplete entries that raise an error\n",
        "                continue    \n",
        "        # Convert the structured list of dictionaries into a pandas DataFrame\n",
        "        sentiment_df = pd.DataFrame(sentiment_data)\n",
        "        # Set the 'time_published' column as the DataFrame index to enable time-series operations\n",
        "        # sentiment_df.set_index(\"time_published\", inplace=True)\n",
        "        sentiment_df['time_published']= pd.to_datetime(sentiment_df['time_published'].dt.date)\n",
        "    return sentiment_df\n",
        "    # globals()[f\"{ticker.lower()}_sentiment_data\"] = sentiment_data"
      ]
    },
    {
      "cell_type": "code",
      "execution_count": 14,
      "metadata": {},
      "outputs": [],
      "source": [
        "tsla_sentiment_df = json_reader('TSLA')"
      ]
    },
    {
      "cell_type": "code",
      "execution_count": 15,
      "metadata": {},
      "outputs": [
        {
          "data": {
            "text/html": [
              "<div>\n",
              "<style scoped>\n",
              "    .dataframe tbody tr th:only-of-type {\n",
              "        vertical-align: middle;\n",
              "    }\n",
              "\n",
              "    .dataframe tbody tr th {\n",
              "        vertical-align: top;\n",
              "    }\n",
              "\n",
              "    .dataframe thead th {\n",
              "        text-align: right;\n",
              "    }\n",
              "</style>\n",
              "<table border=\"1\" class=\"dataframe\">\n",
              "  <thead>\n",
              "    <tr style=\"text-align: right;\">\n",
              "      <th></th>\n",
              "      <th>time_published</th>\n",
              "      <th>sentiment_score</th>\n",
              "      <th>sentiment_label</th>\n",
              "    </tr>\n",
              "  </thead>\n",
              "  <tbody>\n",
              "    <tr>\n",
              "      <th>0</th>\n",
              "      <td>2025-03-01</td>\n",
              "      <td>0.225994</td>\n",
              "      <td>Somewhat-Bullish</td>\n",
              "    </tr>\n",
              "    <tr>\n",
              "      <th>1</th>\n",
              "      <td>2025-02-28</td>\n",
              "      <td>-0.098739</td>\n",
              "      <td>Neutral</td>\n",
              "    </tr>\n",
              "    <tr>\n",
              "      <th>2</th>\n",
              "      <td>2025-02-28</td>\n",
              "      <td>-0.041235</td>\n",
              "      <td>Neutral</td>\n",
              "    </tr>\n",
              "    <tr>\n",
              "      <th>3</th>\n",
              "      <td>2025-02-28</td>\n",
              "      <td>-0.038786</td>\n",
              "      <td>Neutral</td>\n",
              "    </tr>\n",
              "    <tr>\n",
              "      <th>4</th>\n",
              "      <td>2025-02-28</td>\n",
              "      <td>0.021961</td>\n",
              "      <td>Neutral</td>\n",
              "    </tr>\n",
              "  </tbody>\n",
              "</table>\n",
              "</div>"
            ],
            "text/plain": [
              "  time_published  sentiment_score   sentiment_label\n",
              "0     2025-03-01         0.225994  Somewhat-Bullish\n",
              "1     2025-02-28        -0.098739           Neutral\n",
              "2     2025-02-28        -0.041235           Neutral\n",
              "3     2025-02-28        -0.038786           Neutral\n",
              "4     2025-02-28         0.021961           Neutral"
            ]
          },
          "execution_count": 15,
          "metadata": {},
          "output_type": "execute_result"
        }
      ],
      "source": [
        "tsla_sentiment_df.head()"
      ]
    },
    {
      "cell_type": "code",
      "execution_count": 16,
      "metadata": {},
      "outputs": [],
      "source": [
        "tsla_sentiment_scores_filtered = tsla_sentiment_df[(tsla_sentiment_df['time_published']).isin(tsla.index)]\n",
        "tsla_sentiment_scores_filtered = tsla_sentiment_scores_filtered.groupby('time_published')['sentiment_score'].mean().reset_index()"
      ]
    },
    {
      "cell_type": "code",
      "execution_count": 17,
      "metadata": {},
      "outputs": [],
      "source": [
        "tsla_merged_data = pd.merge(\n",
        "    tsla['Volume_TSLA'].reset_index().rename(columns={'Volume_TSLA': 'Volume'}),\n",
        "    tsla_sentiment_scores_filtered,\n",
        "    left_on='Date',\n",
        "    right_on='time_published',\n",
        "    how='inner'\n",
        ")\n",
        "# Compute the weighted sentiment by multiplying raw sentiment by trading volume\n",
        "tsla_merged_data['Weighted_Sentiment'] = tsla_merged_data['Volume'] * tsla_merged_data['sentiment_score']\n",
        "\n",
        "# Calculate a 5-day rolling average of the weighted sentiment to smooth short-term noise\n",
        "tsla_merged_data['5_day_avg_sentiment'] = tsla_merged_data['Weighted_Sentiment'].rolling(window=5).mean()\n",
        "\n",
        "# Define a binary condition for when the average sentiment is positive\n",
        "tsla_merged_data['Buy_Condition'] = tsla_merged_data['5_day_avg_sentiment'] > 0\n",
        "\n",
        "# Normalize the rolling sentiment score by average volume to allow comparability across scales\n",
        "tsla_merged_data['5_day_avg_sentiment_norm'] = (\n",
        "    tsla_merged_data['5_day_avg_sentiment'] / tsla_merged_data['Volume'].mean()\n",
        ")"
      ]
    },
    {
      "cell_type": "code",
      "execution_count": 18,
      "metadata": {},
      "outputs": [
        {
          "data": {
            "text/html": [
              "<div>\n",
              "<style scoped>\n",
              "    .dataframe tbody tr th:only-of-type {\n",
              "        vertical-align: middle;\n",
              "    }\n",
              "\n",
              "    .dataframe tbody tr th {\n",
              "        vertical-align: top;\n",
              "    }\n",
              "\n",
              "    .dataframe thead th {\n",
              "        text-align: right;\n",
              "    }\n",
              "</style>\n",
              "<table border=\"1\" class=\"dataframe\">\n",
              "  <thead>\n",
              "    <tr style=\"text-align: right;\">\n",
              "      <th></th>\n",
              "      <th>Date</th>\n",
              "      <th>Volume</th>\n",
              "      <th>time_published</th>\n",
              "      <th>sentiment_score</th>\n",
              "      <th>Weighted_Sentiment</th>\n",
              "      <th>5_day_avg_sentiment</th>\n",
              "      <th>Buy_Condition</th>\n",
              "      <th>5_day_avg_sentiment_norm</th>\n",
              "    </tr>\n",
              "  </thead>\n",
              "  <tbody>\n",
              "    <tr>\n",
              "      <th>0</th>\n",
              "      <td>2025-01-31</td>\n",
              "      <td>83568200</td>\n",
              "      <td>2025-01-31</td>\n",
              "      <td>0.194614</td>\n",
              "      <td>1.626354e+07</td>\n",
              "      <td>NaN</td>\n",
              "      <td>False</td>\n",
              "      <td>NaN</td>\n",
              "    </tr>\n",
              "    <tr>\n",
              "      <th>1</th>\n",
              "      <td>2025-02-03</td>\n",
              "      <td>93732100</td>\n",
              "      <td>2025-02-03</td>\n",
              "      <td>0.129243</td>\n",
              "      <td>1.211426e+07</td>\n",
              "      <td>NaN</td>\n",
              "      <td>False</td>\n",
              "      <td>NaN</td>\n",
              "    </tr>\n",
              "    <tr>\n",
              "      <th>2</th>\n",
              "      <td>2025-02-04</td>\n",
              "      <td>57072200</td>\n",
              "      <td>2025-02-04</td>\n",
              "      <td>0.173107</td>\n",
              "      <td>9.879602e+06</td>\n",
              "      <td>NaN</td>\n",
              "      <td>False</td>\n",
              "      <td>NaN</td>\n",
              "    </tr>\n",
              "    <tr>\n",
              "      <th>3</th>\n",
              "      <td>2025-02-05</td>\n",
              "      <td>57223300</td>\n",
              "      <td>2025-02-05</td>\n",
              "      <td>0.136874</td>\n",
              "      <td>7.832396e+06</td>\n",
              "      <td>NaN</td>\n",
              "      <td>False</td>\n",
              "      <td>NaN</td>\n",
              "    </tr>\n",
              "    <tr>\n",
              "      <th>4</th>\n",
              "      <td>2025-02-06</td>\n",
              "      <td>77918200</td>\n",
              "      <td>2025-02-06</td>\n",
              "      <td>0.118095</td>\n",
              "      <td>9.201782e+06</td>\n",
              "      <td>1.105832e+07</td>\n",
              "      <td>True</td>\n",
              "      <td>0.132787</td>\n",
              "    </tr>\n",
              "  </tbody>\n",
              "</table>\n",
              "</div>"
            ],
            "text/plain": [
              "        Date    Volume time_published  sentiment_score  Weighted_Sentiment  \\\n",
              "0 2025-01-31  83568200     2025-01-31         0.194614        1.626354e+07   \n",
              "1 2025-02-03  93732100     2025-02-03         0.129243        1.211426e+07   \n",
              "2 2025-02-04  57072200     2025-02-04         0.173107        9.879602e+06   \n",
              "3 2025-02-05  57223300     2025-02-05         0.136874        7.832396e+06   \n",
              "4 2025-02-06  77918200     2025-02-06         0.118095        9.201782e+06   \n",
              "\n",
              "   5_day_avg_sentiment  Buy_Condition  5_day_avg_sentiment_norm  \n",
              "0                  NaN          False                       NaN  \n",
              "1                  NaN          False                       NaN  \n",
              "2                  NaN          False                       NaN  \n",
              "3                  NaN          False                       NaN  \n",
              "4         1.105832e+07           True                  0.132787  "
            ]
          },
          "execution_count": 18,
          "metadata": {},
          "output_type": "execute_result"
        }
      ],
      "source": [
        "tsla_merged_data.head()"
      ]
    },
    {
      "attachments": {},
      "cell_type": "markdown",
      "metadata": {},
      "source": [
        "### Derive ATR (10) for Volatility Adjustments"
      ]
    },
    {
      "cell_type": "code",
      "execution_count": 19,
      "metadata": {},
      "outputs": [],
      "source": [
        "def calculate_true_range(df, ticker):\n",
        "    df[\"prev_close\"] = df[f'Close_{ticker}'].shift(1)\n",
        "    df[\"tr1\"] = df[f'High_{ticker}'] - df[f'Low_{ticker}']\n",
        "    df[\"tr2\"] = abs(df[f'High_{ticker}'] - df[\"prev_close\"])\n",
        "    df[\"tr3\"] = abs(df[f'Low_{ticker}'] - df[\"prev_close\"])\n",
        "    df[\"true_range\"] = df[[\"tr1\", \"tr2\", \"tr3\"]].max(axis=1)\n",
        "    df[\"ATR_10\"] = df[\"true_range\"].rolling(window=10).mean()\n",
        "    df[\"atr_pct\"] = df[\"ATR_10\"] / df[f'Close_{ticker}']\n",
        "    return df\n",
        "\n",
        "def position_size(row):\n",
        "    if row[\"atr_pct\"] < 0.03:  # < 3% volatility → low risk\n",
        "        return 0.01  # allocate 1% of capital\n",
        "    else:  # ≥ 3% volatility → high risk\n",
        "        return 0.005  # allocate 0.5% of capital"
      ]
    },
    {
      "cell_type": "code",
      "execution_count": 20,
      "metadata": {},
      "outputs": [
        {
          "name": "stdout",
          "output_type": "stream",
          "text": [
            "            Close_TSLA     ATR_10   atr_pct  position_size\n",
            "Date                                                      \n",
            "2025-02-19  360.559998  16.703000  0.046325          0.005\n",
            "2025-02-20  354.399994  16.464999  0.046459          0.005\n",
            "2025-02-21  337.799988  17.021997  0.050391          0.005\n",
            "2025-02-24  330.529999  16.770996  0.050740          0.005\n",
            "2025-02-25  302.799988  18.879996  0.062351          0.005\n",
            "2025-02-26  290.799988  18.412994  0.063318          0.005\n",
            "2025-02-27  281.950012  18.257996  0.064756          0.005\n",
            "2025-02-28  292.980011  18.067996  0.061670          0.005\n",
            "2025-03-03  284.649994  19.281998  0.067739          0.005\n",
            "2025-03-04  272.040009  20.654996  0.075926          0.005\n"
          ]
        }
      ],
      "source": [
        "tsla = calculate_true_range(tsla, 'TSLA')\n",
        "tsla[\"position_size\"] = tsla.apply(position_size, axis=1)\n",
        "\n",
        "# ---- Preview ----\n",
        "print(tsla[[\"Close_TSLA\", \"ATR_10\", \"atr_pct\", \"position_size\"]].tail(10))"
      ]
    },
    {
      "cell_type": "code",
      "execution_count": 21,
      "metadata": {},
      "outputs": [
        {
          "data": {
            "text/html": [
              "<iframe\n",
              "    scrolling=\"no\"\n",
              "    width=\"100%\"\n",
              "    height=\"545px\"\n",
              "    src=\"iframe_figures/figure_21.html\"\n",
              "    frameborder=\"0\"\n",
              "    allowfullscreen\n",
              "></iframe>\n"
            ]
          },
          "metadata": {},
          "output_type": "display_data"
        }
      ],
      "source": [
        "# Create a line chart to visualize the ATR% (Average True Range as a percentage of price) over time\n",
        "fig_atr_tsla = px.line(tsla, x=tsla.index, y=\"atr_pct\", title=\"ATR% Over Time\")\n",
        "\n",
        "# Add a horizontal reference line at 3% to represent the low-volatility cutoff threshold\n",
        "fig_atr_tsla.add_hline(\n",
        "    y=0.03, \n",
        "    line_dash=\"dot\", \n",
        "    line_color=\"green\", \n",
        "    annotation_text=\"Low Volatility Cutoff\"\n",
        ")\n",
        "\n",
        "# Display the chart\n",
        "fig_atr_tsla.show()\n",
        "# Display in Streamlit\n",
        "# st.subheader(\"ATR% Over Time for TSLA\")\n",
        "# st.plotly_chart(fig_atr_tsla, use_container_width=True)"
      ]
    },
    {
      "attachments": {},
      "cell_type": "markdown",
      "metadata": {},
      "source": [
        "The chart illustrates the historical volatility of TSLA, measured by the Average True Range (ATR) as a percentage of the closing price. Periods where the ATR% falls below the dotted green line at 3% indicate low volatility, which is typically associated with more stable market conditions. In contrast, noticeable spikes—such as those seen in 2020 and 2021—reflect periods of heightened volatility. More recently, ATR% values appear to remain closer to or slightly above the low-volatility threshold, suggesting relatively calmer market behavior compared to earlier years."
      ]
    },
    {
      "cell_type": "code",
      "execution_count": 22,
      "metadata": {},
      "outputs": [
        {
          "data": {
            "text/html": [
              "<iframe\n",
              "    scrolling=\"no\"\n",
              "    width=\"100%\"\n",
              "    height=\"545px\"\n",
              "    src=\"iframe_figures/figure_22.html\"\n",
              "    frameborder=\"0\"\n",
              "    allowfullscreen\n",
              "></iframe>\n"
            ]
          },
          "metadata": {},
          "output_type": "display_data"
        }
      ],
      "source": [
        "# Filter the TSLA DataFrame to include only records from the year 2025\n",
        "tsla_2025 = tsla[tsla.index.year == 2025]\n",
        "\n",
        "# Create a line chart to visualize ATR% for TSLA during 2025\n",
        "fig = px.line(\n",
        "    tsla_2025,\n",
        "    x=tsla_2025.index,\n",
        "    y=\"atr_pct\",\n",
        "    title=\"TSLA ATR% Over Time (2025 Only)\"\n",
        ")\n",
        "\n",
        "# Add a horizontal line at the 3% threshold to denote the low-volatility cutoff\n",
        "fig.add_hline(\n",
        "    y=0.03,\n",
        "    line_dash=\"dot\",\n",
        "    line_color=\"green\",\n",
        "    annotation_text=\"Low Volatility Cutoff\"\n",
        ")\n",
        "\n",
        "# Display the chart\n",
        "fig.show()"
      ]
    },
    {
      "attachments": {},
      "cell_type": "markdown",
      "metadata": {},
      "source": [
        "The chart displays ATR% for TSLA during 2025, reflecting how the stock's volatility has evolved since the start of the year. While ATR% began above the 7% mark in early January, it gradually declined and remained mostly between 4% and 6% throughout February. Although volatility did not breach the low-volatility threshold of 3%, the dip toward that level suggests a period of relative calm. Toward early March, ATR% showed a clear upward trend, indicating a potential resurgence in market volatility."
      ]
    },
    {
      "cell_type": "code",
      "execution_count": 23,
      "metadata": {},
      "outputs": [],
      "source": [
        "def signal_generation(df, ticker):\n",
        "    df['atr_pct'] = df['ATR_10'] / df['Close_' + ticker]\n",
        "\n",
        "    # Create Buy Signal (assuming VI_Cross_Up is defined elsewhere)\n",
        "    df['Buy_Signal'] = df['VI+'] > df['VI-']  # Vortex crossover\n",
        "    # + add any other buy conditions here...\n",
        "\n",
        "    # Create Sell Signal (basic)\n",
        "    df['Sell_Signal'] = df['VI-'] > df['VI+']\n",
        "\n",
        "    # Initialize position state\n",
        "    df['Position'] = 0\n",
        "    peak_price = 0\n",
        "\n",
        "    for i in range(1, len(df)):\n",
        "        if df['Buy_Signal'].iloc[i]:\n",
        "            df.at[df.index[i], 'Position'] = 1\n",
        "            peak_price = df['Close_' + ticker].iloc[i]\n",
        "        elif df['Position'].iloc[i - 1] == 1:\n",
        "            current_price = df['Close_' + ticker].iloc[i]\n",
        "            peak_price = max(peak_price, current_price)\n",
        "            drawdown = (peak_price - current_price) / peak_price\n",
        "\n",
        "            if drawdown >= 0.03:\n",
        "                df.at[df.index[i], 'Sell_Signal'] = True  # trailing stop\n",
        "                df.at[df.index[i], 'Position'] = 0\n",
        "            else:\n",
        "                df.at[df.index[i], 'Position'] = 1    \n",
        "    return df"
      ]
    },
    {
      "cell_type": "code",
      "execution_count": 24,
      "metadata": {},
      "outputs": [
        {
          "name": "stdout",
          "output_type": "stream",
          "text": [
            "Buy signals: 857\n",
            "Sell signals: 680\n"
          ]
        }
      ],
      "source": [
        "tsla = signal_generation(tsla, 'TSLA')\n",
        "# Display the total number of buy and sell signals generated across the dataset\n",
        "print(\"Buy signals:\", tsla['Buy_Signal'].sum())\n",
        "print(\"Sell signals:\", tsla['Sell_Signal'].sum())"
      ]
    },
    {
      "cell_type": "code",
      "execution_count": 25,
      "metadata": {},
      "outputs": [
        {
          "data": {
            "text/html": [
              "<iframe\n",
              "    scrolling=\"no\"\n",
              "    width=\"100%\"\n",
              "    height=\"545px\"\n",
              "    src=\"iframe_figures/figure_25.html\"\n",
              "    frameborder=\"0\"\n",
              "    allowfullscreen\n",
              "></iframe>\n"
            ]
          },
          "metadata": {},
          "output_type": "display_data"
        }
      ],
      "source": [
        "# Create an empty figure object\n",
        "fig = go.Figure()\n",
        "\n",
        "# Plot the TSLA closing price as a continuous line\n",
        "fig.add_trace(go.Scatter(\n",
        "    x=tsla.index,\n",
        "    y=tsla['Close_TSLA'],\n",
        "    mode='lines',\n",
        "    name='TSLA Price'\n",
        "))\n",
        "\n",
        "# Add markers to indicate Buy Signals using upward-pointing green triangles\n",
        "fig.add_trace(go.Scatter(\n",
        "    x=tsla[tsla['Buy_Signal']].index,\n",
        "    y=tsla[tsla['Buy_Signal']]['Close_TSLA'],\n",
        "    mode='markers',\n",
        "    marker=dict(symbol='triangle-up', size=10, color='green'),\n",
        "    name='Buy Signal'\n",
        "))\n",
        "\n",
        "# Add markers to indicate Sell Signals using downward-pointing red triangles\n",
        "fig.add_trace(go.Scatter(\n",
        "    x=tsla[tsla['Sell_Signal']].index,\n",
        "    y=tsla[tsla['Sell_Signal']]['Close_TSLA'],\n",
        "    mode='markers',\n",
        "    marker=dict(symbol='triangle-down', size=10, color='red'),\n",
        "    name='Sell Signal'\n",
        "))\n",
        "\n",
        "# Update layout settings including title and visual style\n",
        "fig.update_layout(\n",
        "    title='TSLA Buy & Sell Signals',\n",
        "    template='plotly_white'\n",
        ")\n",
        "\n",
        "# Render the interactive plot\n",
        "fig.show()"
      ]
    },
    {
      "attachments": {},
      "cell_type": "markdown",
      "metadata": {},
      "source": [
        "The chart illustrates the closing price of Tesla stock over time, with overlaid trading signals generated by the strategy. Green upward triangles represent buy signals, while red downward triangles mark sell signals. These signals are distributed throughout periods of both rising and falling prices, reflecting how the algorithm dynamically enters and exits positions based on market conditions. Clusters of signals during high-volatility periods—such as 2020, 2021, and early 2025—indicate frequent entries and exits, whereas more stable phases show fewer trades."
      ]
    },
    {
      "cell_type": "code",
      "execution_count": 26,
      "metadata": {},
      "outputs": [
        {
          "name": "stdout",
          "output_type": "stream",
          "text": [
            "Buy signals: 80\n",
            "Sell signals: 80\n",
            "Aggressive entries: 5\n",
            "Conservative entries: 75\n"
          ]
        }
      ],
      "source": [
        "# Calculate ATR as a percentage of the closing price to normalize volatility\n",
        "tsla['atr_pct'] = tsla['ATR_10'] / tsla['Close_TSLA']\n",
        "\n",
        "# Define Vortex Indicator crossover signals:\n",
        "# - VI_Cross_Up: Identifies when VI+ crosses above VI− (potential bullish signal)\n",
        "# - VI_Cross_Down: Identifies when VI− crosses above VI+ (potential bearish signal)\n",
        "tsla['VI_Cross_Up'] = (tsla['VI+'] > tsla['VI-']) & (tsla['VI+'].shift(1) <= tsla['VI-'].shift(1))\n",
        "tsla['VI_Cross_Down'] = (tsla['VI-'] > tsla['VI+']) & (tsla['VI-'].shift(1) <= tsla['VI+'].shift(1))\n",
        "\n",
        "# Initialize signal and state columns\n",
        "tsla['Buy_Signal'] = False          # Flag for buy signal\n",
        "tsla['Sell_Signal'] = False         # Flag for sell signal\n",
        "tsla['Position'] = 0                # Position state: 1 = in position, 0 = no position\n",
        "tsla['Entry_Type'] = None           # Strategy classification: 'aggressive' or 'conservative'\n",
        "\n",
        "# Initialize control variables for trailing stop and price tracking\n",
        "in_position = False                 # Boolean flag for current position state\n",
        "peak_price = 0                      # Highest price observed during an open position\n",
        "\n",
        "# Iterate through the DataFrame to simulate trading logic based on Vortex signals and volatility\n",
        "for i in range(1, len(tsla)):\n",
        "    row = tsla.iloc[i]\n",
        "    idx = tsla.index[i]\n",
        "\n",
        "    # Buy condition: Enter a new position if VI_Cross_Up occurs and no current position is held\n",
        "    if not in_position and row['VI_Cross_Up']:\n",
        "        tsla.at[idx, 'Buy_Signal'] = True\n",
        "        tsla.at[idx, 'Position'] = 1\n",
        "        in_position = True\n",
        "        peak_price = row['Close_TSLA']\n",
        "\n",
        "        # Classify entry type based on volatility threshold\n",
        "        if row['atr_pct'] < 0.03:\n",
        "            tsla.at[idx, 'Entry_Type'] = 'aggressive'\n",
        "        else:\n",
        "            tsla.at[idx, 'Entry_Type'] = 'conservative'\n",
        "\n",
        "    # While in position, evaluate for trailing stop or VI_Cross_Down exit condition\n",
        "    elif in_position:\n",
        "        current_price = row['Close_TSLA']\n",
        "        peak_price = max(peak_price, current_price)\n",
        "        drawdown = (peak_price - current_price) / peak_price\n",
        "\n",
        "        # Sell condition: Exit if drawdown exceeds 3% or VI_Cross_Down occurs\n",
        "        if drawdown >= 0.03 or row['VI_Cross_Down']:\n",
        "            tsla.at[idx, 'Sell_Signal'] = True\n",
        "            tsla.at[idx, 'Position'] = 0\n",
        "            in_position = False\n",
        "        else:\n",
        "            tsla.at[idx, 'Position'] = 1  # Maintain position\n",
        "\n",
        "# Output the total count of each type of signal and entry classification\n",
        "print(\"Buy signals:\", tsla['Buy_Signal'].sum())\n",
        "print(\"Sell signals:\", tsla['Sell_Signal'].sum())\n",
        "print(\"Aggressive entries:\", (tsla['Entry_Type'] == 'aggressive').sum())\n",
        "print(\"Conservative entries:\", (tsla['Entry_Type'] == 'conservative').sum())"
      ]
    },
    {
      "cell_type": "code",
      "execution_count": 27,
      "metadata": {},
      "outputs": [
        {
          "data": {
            "text/html": [
              "<iframe\n",
              "    scrolling=\"no\"\n",
              "    width=\"100%\"\n",
              "    height=\"620\"\n",
              "    src=\"iframe_figures/figure_27.html\"\n",
              "    frameborder=\"0\"\n",
              "    allowfullscreen\n",
              "></iframe>\n"
            ]
          },
          "metadata": {},
          "output_type": "display_data"
        }
      ],
      "source": [
        "# Create an empty figure to hold all plot layers\n",
        "fig = go.Figure()\n",
        "\n",
        "# Plot the tsla closing price as a continuous blue line\n",
        "fig.add_trace(go.Scatter(\n",
        "    x=tsla.index,\n",
        "    y=tsla['Close_TSLA'],\n",
        "    mode='lines',\n",
        "    name='TSLA Price',\n",
        "    line=dict(color='blue')\n",
        "))\n",
        "\n",
        "# Add markers for aggressive buy signals (Entry_Type = 'aggressive')\n",
        "fig.add_trace(go.Scatter(\n",
        "    x=tsla[(tsla['Buy_Signal']) & (tsla['Entry_Type'] == 'aggressive')].index,\n",
        "    y=tsla[(tsla['Buy_Signal']) & (tsla['Entry_Type'] == 'aggressive')]['Close_TSLA'],\n",
        "    mode='markers',\n",
        "    name='Buy (Aggressive)',\n",
        "    marker=dict(symbol='triangle-up', color='limegreen', size=10)\n",
        "))\n",
        "\n",
        "# Add markers for conservative buy signals (Entry_Type = 'conservative')\n",
        "fig.add_trace(go.Scatter(\n",
        "    x=tsla[(tsla['Buy_Signal']) & (tsla['Entry_Type'] == 'conservative')].index,\n",
        "    y=tsla[(tsla['Buy_Signal']) & (tsla['Entry_Type'] == 'conservative')]['Close_TSLA'],\n",
        "    mode='markers',\n",
        "    name='Buy (Conservative)',\n",
        "    marker=dict(symbol='triangle-up', color='green', size=10)\n",
        "))\n",
        "\n",
        "# Add markers for sell signals using red downward-pointing triangles\n",
        "fig.add_trace(go.Scatter(\n",
        "    x=tsla[tsla['Sell_Signal']].index,\n",
        "    y=tsla[tsla['Sell_Signal']]['Close_TSLA'],\n",
        "    mode='markers',\n",
        "    name='Sell Signal',\n",
        "    marker=dict(symbol='triangle-down', color='red', size=10)\n",
        "))\n",
        "\n",
        "# Configure chart layout with appropriate title, axis labels, and style\n",
        "fig.update_layout(\n",
        "    title='TSLA Buy/Sell Signals Over Time',\n",
        "    xaxis_title='Date',\n",
        "    yaxis_title='Price (USD)',\n",
        "    template='plotly_white',\n",
        "    height=600\n",
        ")\n",
        "\n",
        "# Render the figure\n",
        "fig.show()"
      ]
    },
    {
      "attachments": {},
      "cell_type": "markdown",
      "metadata": {},
      "source": [
        "The chart displays the historical closing price of Tesla (TSLA) stock alongside algorithmically generated buy and sell signals. The blue line represents TSLA's closing price, while the green upward-pointing triangles indicate buy entries—distinguished by lime green for aggressive entries (lower volatility) and dark green for conservative entries (higher volatility). Red downward-pointing triangles represent sell signals.\n",
        "\n",
        "The buy signals are generally aligned with upward momentum, and sell signals frequently follow periods of short-term retracement or heightened volatility. The system shows particularly dense activity around highly volatile phases, such as mid-2020 to early 2022, capturing many entries and exits. In contrast, during more stable periods, the signals are more spaced out. Overall, the plot provides a clear visual assessment of how the strategy adapts dynamically to changing market conditions by modulating its entries based on volatility and exiting with protective trailing logic."
      ]
    },
    {
      "attachments": {},
      "cell_type": "markdown",
      "metadata": {},
      "source": [
        "## Tesla Analysis Results"
      ]
    },
    {
      "cell_type": "code",
      "execution_count": 28,
      "metadata": {},
      "outputs": [
        {
          "data": {
            "text/html": [
              "<div>\n",
              "<style scoped>\n",
              "    .dataframe tbody tr th:only-of-type {\n",
              "        vertical-align: middle;\n",
              "    }\n",
              "\n",
              "    .dataframe tbody tr th {\n",
              "        vertical-align: top;\n",
              "    }\n",
              "\n",
              "    .dataframe thead th {\n",
              "        text-align: right;\n",
              "    }\n",
              "</style>\n",
              "<table border=\"1\" class=\"dataframe\">\n",
              "  <thead>\n",
              "    <tr style=\"text-align: right;\">\n",
              "      <th></th>\n",
              "      <th>Date</th>\n",
              "      <th>Volume</th>\n",
              "      <th>time_published</th>\n",
              "      <th>sentiment_score</th>\n",
              "      <th>Weighted_Sentiment</th>\n",
              "      <th>5_day_avg_sentiment</th>\n",
              "      <th>Buy_Condition</th>\n",
              "      <th>5_day_avg_sentiment_norm</th>\n",
              "      <th>Close_TSLA</th>\n",
              "      <th>High_TSLA</th>\n",
              "      <th>...</th>\n",
              "      <th>Volume_TSLA</th>\n",
              "      <th>VI+</th>\n",
              "      <th>VI-</th>\n",
              "      <th>prev_close</th>\n",
              "      <th>tr1</th>\n",
              "      <th>tr2</th>\n",
              "      <th>tr3</th>\n",
              "      <th>true_range</th>\n",
              "      <th>ATR_10</th>\n",
              "      <th>position_size</th>\n",
              "    </tr>\n",
              "  </thead>\n",
              "  <tbody>\n",
              "    <tr>\n",
              "      <th>0</th>\n",
              "      <td>2025-01-31</td>\n",
              "      <td>83568200</td>\n",
              "      <td>2025-01-31</td>\n",
              "      <td>0.194614</td>\n",
              "      <td>1.626354e+07</td>\n",
              "      <td>NaN</td>\n",
              "      <td>False</td>\n",
              "      <td>NaN</td>\n",
              "      <td>404.600006</td>\n",
              "      <td>419.989990</td>\n",
              "      <td>...</td>\n",
              "      <td>83568200</td>\n",
              "      <td>1.012243</td>\n",
              "      <td>0.857439</td>\n",
              "      <td>400.279999</td>\n",
              "      <td>18.649994</td>\n",
              "      <td>19.709991</td>\n",
              "      <td>1.059998</td>\n",
              "      <td>19.709991</td>\n",
              "      <td>18.478998</td>\n",
              "      <td>0.005</td>\n",
              "    </tr>\n",
              "    <tr>\n",
              "      <th>1</th>\n",
              "      <td>2025-02-03</td>\n",
              "      <td>93732100</td>\n",
              "      <td>2025-02-03</td>\n",
              "      <td>0.129243</td>\n",
              "      <td>1.211426e+07</td>\n",
              "      <td>NaN</td>\n",
              "      <td>False</td>\n",
              "      <td>NaN</td>\n",
              "      <td>383.679993</td>\n",
              "      <td>389.170013</td>\n",
              "      <td>...</td>\n",
              "      <td>93732100</td>\n",
              "      <td>0.941453</td>\n",
              "      <td>0.927890</td>\n",
              "      <td>404.600006</td>\n",
              "      <td>14.810028</td>\n",
              "      <td>15.429993</td>\n",
              "      <td>30.240021</td>\n",
              "      <td>30.240021</td>\n",
              "      <td>18.911002</td>\n",
              "      <td>0.005</td>\n",
              "    </tr>\n",
              "    <tr>\n",
              "      <th>2</th>\n",
              "      <td>2025-02-04</td>\n",
              "      <td>57072200</td>\n",
              "      <td>2025-02-04</td>\n",
              "      <td>0.173107</td>\n",
              "      <td>9.879602e+06</td>\n",
              "      <td>NaN</td>\n",
              "      <td>False</td>\n",
              "      <td>NaN</td>\n",
              "      <td>392.209991</td>\n",
              "      <td>394.000000</td>\n",
              "      <td>...</td>\n",
              "      <td>57072200</td>\n",
              "      <td>0.911693</td>\n",
              "      <td>0.973944</td>\n",
              "      <td>383.679993</td>\n",
              "      <td>12.600006</td>\n",
              "      <td>10.320007</td>\n",
              "      <td>2.279999</td>\n",
              "      <td>12.600006</td>\n",
              "      <td>17.482001</td>\n",
              "      <td>0.005</td>\n",
              "    </tr>\n",
              "    <tr>\n",
              "      <th>3</th>\n",
              "      <td>2025-02-05</td>\n",
              "      <td>57223300</td>\n",
              "      <td>2025-02-05</td>\n",
              "      <td>0.136874</td>\n",
              "      <td>7.832396e+06</td>\n",
              "      <td>NaN</td>\n",
              "      <td>False</td>\n",
              "      <td>NaN</td>\n",
              "      <td>378.170013</td>\n",
              "      <td>388.390015</td>\n",
              "      <td>...</td>\n",
              "      <td>57223300</td>\n",
              "      <td>0.862377</td>\n",
              "      <td>1.041572</td>\n",
              "      <td>392.209991</td>\n",
              "      <td>12.860016</td>\n",
              "      <td>3.819977</td>\n",
              "      <td>16.679993</td>\n",
              "      <td>16.679993</td>\n",
              "      <td>17.809000</td>\n",
              "      <td>0.005</td>\n",
              "    </tr>\n",
              "    <tr>\n",
              "      <th>4</th>\n",
              "      <td>2025-02-06</td>\n",
              "      <td>77918200</td>\n",
              "      <td>2025-02-06</td>\n",
              "      <td>0.118095</td>\n",
              "      <td>9.201782e+06</td>\n",
              "      <td>1.105832e+07</td>\n",
              "      <td>True</td>\n",
              "      <td>0.132787</td>\n",
              "      <td>374.320007</td>\n",
              "      <td>375.399994</td>\n",
              "      <td>...</td>\n",
              "      <td>77918200</td>\n",
              "      <td>0.805785</td>\n",
              "      <td>1.075550</td>\n",
              "      <td>378.170013</td>\n",
              "      <td>12.220001</td>\n",
              "      <td>2.770020</td>\n",
              "      <td>14.990021</td>\n",
              "      <td>14.990021</td>\n",
              "      <td>18.130002</td>\n",
              "      <td>0.005</td>\n",
              "    </tr>\n",
              "  </tbody>\n",
              "</table>\n",
              "<p>5 rows × 22 columns</p>\n",
              "</div>"
            ],
            "text/plain": [
              "        Date    Volume time_published  sentiment_score  Weighted_Sentiment  \\\n",
              "0 2025-01-31  83568200     2025-01-31         0.194614        1.626354e+07   \n",
              "1 2025-02-03  93732100     2025-02-03         0.129243        1.211426e+07   \n",
              "2 2025-02-04  57072200     2025-02-04         0.173107        9.879602e+06   \n",
              "3 2025-02-05  57223300     2025-02-05         0.136874        7.832396e+06   \n",
              "4 2025-02-06  77918200     2025-02-06         0.118095        9.201782e+06   \n",
              "\n",
              "   5_day_avg_sentiment  Buy_Condition  5_day_avg_sentiment_norm  Close_TSLA  \\\n",
              "0                  NaN          False                       NaN  404.600006   \n",
              "1                  NaN          False                       NaN  383.679993   \n",
              "2                  NaN          False                       NaN  392.209991   \n",
              "3                  NaN          False                       NaN  378.170013   \n",
              "4         1.105832e+07           True                  0.132787  374.320007   \n",
              "\n",
              "    High_TSLA  ...  Volume_TSLA       VI+       VI-  prev_close        tr1  \\\n",
              "0  419.989990  ...     83568200  1.012243  0.857439  400.279999  18.649994   \n",
              "1  389.170013  ...     93732100  0.941453  0.927890  404.600006  14.810028   \n",
              "2  394.000000  ...     57072200  0.911693  0.973944  383.679993  12.600006   \n",
              "3  388.390015  ...     57223300  0.862377  1.041572  392.209991  12.860016   \n",
              "4  375.399994  ...     77918200  0.805785  1.075550  378.170013  12.220001   \n",
              "\n",
              "         tr2        tr3  true_range     ATR_10  position_size  \n",
              "0  19.709991   1.059998   19.709991  18.478998          0.005  \n",
              "1  15.429993  30.240021   30.240021  18.911002          0.005  \n",
              "2  10.320007   2.279999   12.600006  17.482001          0.005  \n",
              "3   3.819977  16.679993   16.679993  17.809000          0.005  \n",
              "4   2.770020  14.990021   14.990021  18.130002          0.005  \n",
              "\n",
              "[5 rows x 22 columns]"
            ]
          },
          "execution_count": 28,
          "metadata": {},
          "output_type": "execute_result"
        }
      ],
      "source": [
        "tsla_merged_data = pd.merge(\n",
        "    tsla_merged_data, \n",
        "    tsla[['Close_TSLA', 'High_TSLA', 'Low_TSLA', 'Open_TSLA', 'Volume_TSLA',\n",
        "          'VI+', 'VI-', 'prev_close', 'tr1', 'tr2', 'tr3', 'true_range', 'ATR_10', 'position_size']], \n",
        "    on='Date', \n",
        "    how='left')\n",
        "tsla_merged_data.head()"
      ]
    },
    {
      "cell_type": "code",
      "execution_count": 29,
      "metadata": {},
      "outputs": [
        {
          "name": "stdout",
          "output_type": "stream",
          "text": [
            "Buy signals: 18\n",
            "Sell signals: 1\n",
            "Aggressive entries: 0\n",
            "Conservative entries: 18\n"
          ]
        }
      ],
      "source": [
        "# Calculate ATR percentage\n",
        "tsla_merged_data['atr_pct'] = tsla_merged_data['ATR_10'] / tsla_merged_data['Close_TSLA']\n",
        "\n",
        "# Vortex crossover logic\n",
        "tsla_merged_data['VI_Cross_Up'] = (tsla_merged_data['VI+'] > tsla_merged_data['VI-']) & (tsla_merged_data['VI+'].shift(1) <= tsla_merged_data['VI-'].shift(1))\n",
        "tsla_merged_data['VI_Cross_Down'] = (tsla_merged_data['VI-'] > tsla_merged_data['VI+']) & (tsla_merged_data['VI-'].shift(1) <= tsla_merged_data['VI+'].shift(1))\n",
        "\n",
        "# Initialize signal & state columns\n",
        "tsla_merged_data['Buy_Signal'] = False\n",
        "tsla_merged_data['Sell_Signal'] = False\n",
        "tsla_merged_data['Position'] = 0\n",
        "tsla_merged_data['Entry_Type'] = None  # aggressive/conservative\n",
        "\n",
        "# Trailing stop logic variables\n",
        "in_position = False\n",
        "peak_price = 0\n",
        "\n",
        "for i in range(1, len(tsla_merged_data)):\n",
        "    row = tsla_merged_data.iloc[i]\n",
        "    idx = tsla_merged_data.index[i]\n",
        "    # Buy condition\n",
        "    if not in_position or row['VI_Cross_Up'] or row['5_day_avg_sentiment_norm']>0:\n",
        "        tsla_merged_data.at[idx, 'Buy_Signal'] = True\n",
        "        tsla_merged_data.at[idx, 'Position'] = 1\n",
        "        in_position = True\n",
        "        peak_price = row['Close_TSLA']\n",
        "\n",
        "        # Entry Type: aggressive if ATR < 3%, else conservative\n",
        "        if row['atr_pct'] < 0.03:\n",
        "            tsla_merged_data.at[idx, 'Entry_Type'] = 'aggressive'\n",
        "        else:\n",
        "            tsla_merged_data.at[idx, 'Entry_Type'] = 'conservative'\n",
        "\n",
        "    # While in position, check for trailing stop or VI cross down\n",
        "    elif in_position:\n",
        "        current_price = row['Close_TSLA']\n",
        "        peak_price = max(peak_price, current_price)\n",
        "        drawdown = (peak_price - current_price) / peak_price\n",
        "\n",
        "        if drawdown >= 0.03 or row['VI_Cross_Down']:\n",
        "            tsla_merged_data.at[idx, 'Sell_Signal'] = True\n",
        "            tsla_merged_data.at[idx, 'Position'] = 0\n",
        "            in_position = False\n",
        "        else:\n",
        "            tsla_merged_data.at[idx, 'Position'] = 1\n",
        "\n",
        "# Show result counts\n",
        "print(\"Buy signals:\", tsla_merged_data['Buy_Signal'].sum())\n",
        "print(\"Sell signals:\", tsla_merged_data['Sell_Signal'].sum())\n",
        "print(\"Aggressive entries:\", (tsla_merged_data['Entry_Type'] == 'aggressive').sum())\n",
        "print(\"Conservative entries:\", (tsla_merged_data['Entry_Type'] == 'conservative').sum())\n"
      ]
    },
    {
      "cell_type": "code",
      "execution_count": 30,
      "metadata": {},
      "outputs": [
        {
          "data": {
            "text/html": [
              "<iframe\n",
              "    scrolling=\"no\"\n",
              "    width=\"100%\"\n",
              "    height=\"520\"\n",
              "    src=\"iframe_figures/figure_30.html\"\n",
              "    frameborder=\"0\"\n",
              "    allowfullscreen\n",
              "></iframe>\n"
            ]
          },
          "metadata": {},
          "output_type": "display_data"
        }
      ],
      "source": [
        "# Ensure 'Date' is datetime and set as index if needed\n",
        "tsla_merged_data['Date'] = pd.to_datetime(tsla_merged_data['Date'])\n",
        "\n",
        "fig = go.Figure()\n",
        "\n",
        "# Plot 5-day Avg Sentiment\n",
        "fig.add_trace(go.Scatter(\n",
        "    x=tsla_merged_data['Date'],\n",
        "    y=tsla_merged_data['5_day_avg_sentiment_norm'],\n",
        "    mode='lines+markers',\n",
        "    name='5-Day Avg Sentiment',\n",
        "    line=dict(color='blue')\n",
        "))\n",
        "\n",
        "# Plot ATR %\n",
        "fig.add_trace(go.Scatter(\n",
        "    x=tsla_merged_data['Date'],\n",
        "    y=tsla_merged_data['atr_pct'],\n",
        "    mode='lines+markers',\n",
        "    name='ATR %',\n",
        "    yaxis='y2',\n",
        "    line=dict(color='orange')\n",
        "))\n",
        "\n",
        "# Optional: Highlight Buy Signal Dates (even though there are none now)\n",
        "fig.add_trace(go.Scatter(\n",
        "    x=tsla_merged_data.loc[tsla_merged_data['Buy_Signal'], 'Date'],\n",
        "    y=tsla_merged_data.loc[tsla_merged_data['Buy_Signal'], '5_day_avg_sentiment_norm'],\n",
        "    mode='markers',\n",
        "    marker=dict(color='green', size=10, symbol='star'),\n",
        "    name='Buy Signal'\n",
        "))\n",
        "\n",
        "# Add dual axis layout\n",
        "fig.update_layout(\n",
        "    title=\"5-Day Sentiment vs ATR % (with Buy Signals)\",\n",
        "    xaxis_title='Date',\n",
        "    yaxis=dict(title='5-Day Avg Sentiment'),\n",
        "    yaxis2=dict(title='ATR %', overlaying='y', side='right'),\n",
        "    legend=dict(x=0.01, y=0.99),\n",
        "    height=500\n",
        ")\n",
        "\n",
        "fig.show()"
      ]
    },
    {
      "cell_type": "code",
      "execution_count": 31,
      "metadata": {},
      "outputs": [],
      "source": [
        "def backtest(df, ticker):\n",
        "    capital = 100000\n",
        "    in_position = False\n",
        "    entry_price = 0\n",
        "    position_value = 0\n",
        "    cash = capital\n",
        "    returns = []\n",
        "\n",
        "    for i in range(len(df)):\n",
        "        row = df.iloc[i]\n",
        "\n",
        "        if row['Buy_Signal'] and not in_position:\n",
        "            position_size = row['position_size']\n",
        "            position_value = cash * position_size\n",
        "            entry_price = row['Close_' + ticker]\n",
        "            shares_bought = position_value / entry_price\n",
        "            cash -= position_value\n",
        "            in_position = True\n",
        "        elif row['Sell_Signal'] and in_position:\n",
        "            exit_price = row['Close_' + ticker]\n",
        "            proceeds = shares_bought * exit_price\n",
        "            profit = proceeds - position_value\n",
        "            cash += proceeds\n",
        "            returns.append(profit)\n",
        "            in_position = False\n",
        "            position_value = 0\n",
        "            entry_price = 0\n",
        "\n",
        "    final_value = cash + (shares_bought * row['Close_' + ticker] if in_position else 0)\n",
        "    total_return = final_value - capital\n",
        "    result = f\"Final Capital: ${final_value:.2f} \\nTotal Return: ${total_return:.2f} \\nTotal Trades: {len(returns)}\\nAverage Profit per Trade: ${np.mean(returns):.2f}\"\n",
        "    return result"
      ]
    },
    {
      "cell_type": "code",
      "execution_count": 32,
      "metadata": {},
      "outputs": [
        {
          "name": "stdout",
          "output_type": "stream",
          "text": [
            "Final Capital: $99898.47 \n",
            "Total Return: $-101.53 \n",
            "Total Trades: 1\n",
            "Average Profit per Trade: $11.12\n"
          ]
        }
      ],
      "source": [
        "print(backtest(tsla_merged_data, 'TSLA')) #w/ sentiment data"
      ]
    },
    {
      "cell_type": "code",
      "execution_count": 33,
      "metadata": {},
      "outputs": [
        {
          "name": "stdout",
          "output_type": "stream",
          "text": [
            "Final Capital: $100575.32 \n",
            "Total Return: $575.32 \n",
            "Total Trades: 80\n",
            "Average Profit per Trade: $7.19\n"
          ]
        }
      ],
      "source": [
        "print(backtest(tsla, 'TSLA')) #w/o sentiment data"
      ]
    },
    {
      "cell_type": "code",
      "execution_count": 34,
      "metadata": {},
      "outputs": [],
      "source": [
        "def f_portfolio(df, ticker):\n",
        "    df = df.dropna(subset=['Close_' + ticker])\n",
        "    entries = df['Buy_Signal'].astype(bool)\n",
        "    exits = df['Sell_Signal'].astype(bool)\n",
        "\n",
        "    price = df['Close_' + ticker]\n",
        "    portfolio = vbt.Portfolio.from_signals(\n",
        "        close=price,\n",
        "        entries=entries,\n",
        "        exits=exits,\n",
        "        init_cash=100_000,\n",
        "        fees=0.001\n",
        "    )\n",
        "    return portfolio"
      ]
    },
    {
      "cell_type": "code",
      "execution_count": 35,
      "metadata": {},
      "outputs": [
        {
          "name": "stderr",
          "output_type": "stream",
          "text": [
            "/Users/dinarazhorabek/Library/Python/3.9/lib/python/site-packages/vectorbt/generic/stats_builder.py:396: UserWarning:\n",
            "\n",
            "Metric 'sharpe_ratio' requires frequency to be set\n",
            "\n",
            "/Users/dinarazhorabek/Library/Python/3.9/lib/python/site-packages/vectorbt/generic/stats_builder.py:396: UserWarning:\n",
            "\n",
            "Metric 'calmar_ratio' requires frequency to be set\n",
            "\n",
            "/Users/dinarazhorabek/Library/Python/3.9/lib/python/site-packages/vectorbt/generic/stats_builder.py:396: UserWarning:\n",
            "\n",
            "Metric 'omega_ratio' requires frequency to be set\n",
            "\n",
            "/Users/dinarazhorabek/Library/Python/3.9/lib/python/site-packages/vectorbt/generic/stats_builder.py:396: UserWarning:\n",
            "\n",
            "Metric 'sortino_ratio' requires frequency to be set\n",
            "\n"
          ]
        },
        {
          "name": "stdout",
          "output_type": "stream",
          "text": [
            "Start                         2019-01-02 00:00:00\n",
            "End                           2025-03-04 00:00:00\n",
            "Period                                       1551\n",
            "Start Value                              100000.0\n",
            "End Value                           162759.235978\n",
            "Total Return [%]                        62.759236\n",
            "Benchmark Return [%]                  1215.813231\n",
            "Max Gross Exposure [%]                      100.0\n",
            "Total Fees Paid                      24054.581607\n",
            "Max Drawdown [%]                        55.348959\n",
            "Max Drawdown Duration                       730.0\n",
            "Total Trades                                   80\n",
            "Total Closed Trades                            80\n",
            "Total Open Trades                               0\n",
            "Open Trade PnL                                0.0\n",
            "Win Rate [%]                                 32.5\n",
            "Best Trade [%]                          46.283397\n",
            "Worst Trade [%]                         -9.410141\n",
            "Avg Winning Trade [%]                   11.344578\n",
            "Avg Losing Trade [%]                    -3.847352\n",
            "Avg Winning Trade Duration               7.076923\n",
            "Avg Losing Trade Duration                2.537037\n",
            "Profit Factor                            1.194803\n",
            "Expectancy                              784.49045\n",
            "dtype: object\n"
          ]
        },
        {
          "data": {
            "text/html": [
              "<iframe\n",
              "    scrolling=\"no\"\n",
              "    width=\"770px\"\n",
              "    height=\"980\"\n",
              "    src=\"iframe_figures/figure_35.html\"\n",
              "    frameborder=\"0\"\n",
              "    allowfullscreen\n",
              "></iframe>\n"
            ]
          },
          "metadata": {},
          "output_type": "display_data"
        }
      ],
      "source": [
        "# without centiment data\n",
        "tsla_portfolio = f_portfolio(tsla, 'TSLA')\n",
        "\n",
        "print(tsla_portfolio.stats())\n",
        "tsla_portfolio.plot().show()"
      ]
    },
    {
      "attachments": {},
      "cell_type": "markdown",
      "metadata": {},
      "source": [
        "The backtest results show that while the strategy achieved a total return of approximately 62.76%, it significantly underperformed compared to a simple buy-and-hold strategy on TSLA, which yielded a 1215.81% return. The strategy executed 80 trades with a low win rate of 32.5%, indicating that most trades were unprofitable. Although it had a few strong winners, the average profit per trade was marginal, with a profit factor of 1.19. Additionally, the portfolio experienced a substantial maximum drawdown of 55.35% and a prolonged recovery period lasting two years, signaling high risk. Visuals further confirm that many trades resulted in small losses or gains, with only a few notable profitable exits. Overall, while the strategy demonstrates some profitability, its risk-return profile is weak and may require optimization in entry/exit logic, volatility filtering, or sentiment integration to compete with the benchmark performance."
      ]
    },
    {
      "attachments": {},
      "cell_type": "markdown",
      "metadata": {},
      "source": [
        "## XLY Analysis Results"
      ]
    },
    {
      "cell_type": "code",
      "execution_count": 36,
      "metadata": {},
      "outputs": [
        {
          "name": "stdout",
          "output_type": "stream",
          "text": [
            "             Close_XLY    ATR_10   atr_pct  position_size\n",
            "Date                                                     \n",
            "2025-02-19  225.618988  2.870099  0.012721           0.01\n",
            "2025-02-20  223.674316  2.919964  0.013055           0.01\n",
            "2025-02-21  217.790527  3.453495  0.015857           0.01\n",
            "2025-02-24  216.972778  3.270997  0.015076           0.01\n",
            "2025-02-25  215.835892  3.511334  0.016269           0.01\n",
            "2025-02-26  214.948349  3.602083  0.016758           0.01\n",
            "2025-02-27  211.846878  3.751672  0.017709           0.01\n",
            "2025-02-28  215.367203  3.836439  0.017813           0.01\n",
            "2025-03-03  211.398117  4.429805  0.020955           0.01\n",
            "2025-03-04  207.668396  4.845659  0.023334           0.01\n"
          ]
        }
      ],
      "source": [
        "xly = calculate_true_range(xly, 'XLY')\n",
        "xly[\"position_size\"] = xly.apply(position_size, axis=1)\n",
        "\n",
        "# ---- Preview ----\n",
        "print(xly[[\"Close_XLY\", \"ATR_10\", \"atr_pct\", \"position_size\"]].tail(10))"
      ]
    },
    {
      "cell_type": "code",
      "execution_count": 37,
      "metadata": {},
      "outputs": [
        {
          "data": {
            "text/html": [
              "<iframe\n",
              "    scrolling=\"no\"\n",
              "    width=\"100%\"\n",
              "    height=\"545px\"\n",
              "    src=\"iframe_figures/figure_37.html\"\n",
              "    frameborder=\"0\"\n",
              "    allowfullscreen\n",
              "></iframe>\n"
            ]
          },
          "metadata": {},
          "output_type": "display_data"
        }
      ],
      "source": [
        "fig = px.line(xly, x=xly.index, y=\"atr_pct\", title=\"ATR% Over Time\")\n",
        "fig.add_hline(y=0.03, line_dash=\"dot\", line_color=\"green\", annotation_text=\"Low Volatility Cutoff\")\n",
        "fig.show()"
      ]
    },
    {
      "cell_type": "code",
      "execution_count": 38,
      "metadata": {},
      "outputs": [
        {
          "data": {
            "text/html": [
              "<iframe\n",
              "    scrolling=\"no\"\n",
              "    width=\"100%\"\n",
              "    height=\"545px\"\n",
              "    src=\"iframe_figures/figure_38.html\"\n",
              "    frameborder=\"0\"\n",
              "    allowfullscreen\n",
              "></iframe>\n"
            ]
          },
          "metadata": {},
          "output_type": "display_data"
        }
      ],
      "source": [
        "# Filter only 2025 data\n",
        "xly_2025 = xly[xly.index.year == 2025]\n",
        "\n",
        "# Plot\n",
        "fig = px.line(xly_2025, x=xly_2025.index, y=\"atr_pct\", title=\"XLY ATR% Over Time (2025 Only)\")\n",
        "fig.add_hline(y=0.03, line_dash=\"dot\", line_color=\"green\", annotation_text=\"Low Volatility Cutoff\")\n",
        "fig.show()"
      ]
    },
    {
      "cell_type": "code",
      "execution_count": 39,
      "metadata": {},
      "outputs": [],
      "source": [
        "xly = signal_generation(xly, 'XLY')"
      ]
    },
    {
      "cell_type": "code",
      "execution_count": 40,
      "metadata": {},
      "outputs": [
        {
          "name": "stdout",
          "output_type": "stream",
          "text": [
            "Final Capital: $100729.52 \n",
            "Total Return: $729.52 \n",
            "Total Trades: 76\n",
            "Average Profit per Trade: $9.60\n"
          ]
        }
      ],
      "source": [
        "print(backtest(xly, 'XLY'))"
      ]
    },
    {
      "cell_type": "code",
      "execution_count": 41,
      "metadata": {},
      "outputs": [
        {
          "name": "stdout",
          "output_type": "stream",
          "text": [
            "Start                         2019-01-02 00:00:00\n",
            "End                           2025-03-04 00:00:00\n",
            "Period                                       1551\n",
            "Start Value                              100000.0\n",
            "End Value                           170848.194798\n",
            "Total Return [%]                        70.848195\n",
            "Benchmark Return [%]                   120.815504\n",
            "Max Gross Exposure [%]                      100.0\n",
            "Total Fees Paid                      21558.870642\n",
            "Max Drawdown [%]                        33.668417\n",
            "Max Drawdown Duration                       793.0\n",
            "Total Trades                                   76\n",
            "Total Closed Trades                            76\n",
            "Total Open Trades                               0\n",
            "Open Trade PnL                                0.0\n",
            "Win Rate [%]                            44.736842\n",
            "Best Trade [%]                          37.025745\n",
            "Worst Trade [%]                        -13.070482\n",
            "Avg Winning Trade [%]                    4.635492\n",
            "Avg Losing Trade [%]                    -2.172936\n",
            "Avg Winning Trade Duration              22.558824\n",
            "Avg Losing Trade Duration                4.690476\n",
            "Profit Factor                            1.512842\n",
            "Expectancy                             932.213089\n",
            "dtype: object\n"
          ]
        },
        {
          "name": "stderr",
          "output_type": "stream",
          "text": [
            "/Users/dinarazhorabek/Library/Python/3.9/lib/python/site-packages/vectorbt/generic/stats_builder.py:396: UserWarning:\n",
            "\n",
            "Metric 'sharpe_ratio' requires frequency to be set\n",
            "\n",
            "/Users/dinarazhorabek/Library/Python/3.9/lib/python/site-packages/vectorbt/generic/stats_builder.py:396: UserWarning:\n",
            "\n",
            "Metric 'calmar_ratio' requires frequency to be set\n",
            "\n",
            "/Users/dinarazhorabek/Library/Python/3.9/lib/python/site-packages/vectorbt/generic/stats_builder.py:396: UserWarning:\n",
            "\n",
            "Metric 'omega_ratio' requires frequency to be set\n",
            "\n",
            "/Users/dinarazhorabek/Library/Python/3.9/lib/python/site-packages/vectorbt/generic/stats_builder.py:396: UserWarning:\n",
            "\n",
            "Metric 'sortino_ratio' requires frequency to be set\n",
            "\n"
          ]
        },
        {
          "data": {
            "text/html": [
              "<iframe\n",
              "    scrolling=\"no\"\n",
              "    width=\"770px\"\n",
              "    height=\"980\"\n",
              "    src=\"iframe_figures/figure_41.html\"\n",
              "    frameborder=\"0\"\n",
              "    allowfullscreen\n",
              "></iframe>\n"
            ]
          },
          "metadata": {},
          "output_type": "display_data"
        }
      ],
      "source": [
        "xly_portfolio = f_portfolio(xly, 'XLY')\n",
        "print(xly_portfolio.stats())\n",
        "xly_portfolio.plot().show()"
      ]
    },
    {
      "attachments": {},
      "cell_type": "markdown",
      "metadata": {},
      "source": [
        "## SPY Analysis Results"
      ]
    },
    {
      "cell_type": "code",
      "execution_count": 42,
      "metadata": {},
      "outputs": [
        {
          "name": "stdout",
          "output_type": "stream",
          "text": [
            "             Close_SPY    ATR_10   atr_pct  position_size\n",
            "Date                                                     \n",
            "2025-02-19  611.091675  4.794563  0.007846           0.01\n",
            "2025-02-20  608.549377  4.806522  0.007898           0.01\n",
            "2025-02-21  598.140686  5.513399  0.009218           0.01\n",
            "2025-02-24  595.418884  5.359863  0.009002           0.01\n",
            "2025-02-25  592.457764  5.718790  0.009653           0.01\n",
            "2025-02-26  592.756836  6.146507  0.010369           0.01\n",
            "2025-02-27  583.295288  6.801538  0.011661           0.01\n",
            "2025-02-28  592.397949  7.353875  0.012414           0.01\n",
            "2025-03-03  582.019165  8.901222  0.015294           0.01\n",
            "2025-03-04  575.129883  9.901217  0.017216           0.01\n"
          ]
        }
      ],
      "source": [
        "spy = calculate_true_range(spy, 'SPY')\n",
        "spy[\"position_size\"] = spy.apply(position_size, axis=1)\n",
        "\n",
        "# ---- Preview ----\n",
        "print(spy[[\"Close_SPY\", \"ATR_10\", \"atr_pct\", \"position_size\"]].tail(10))"
      ]
    },
    {
      "cell_type": "code",
      "execution_count": 43,
      "metadata": {},
      "outputs": [
        {
          "data": {
            "text/html": [
              "<iframe\n",
              "    scrolling=\"no\"\n",
              "    width=\"100%\"\n",
              "    height=\"545px\"\n",
              "    src=\"iframe_figures/figure_43.html\"\n",
              "    frameborder=\"0\"\n",
              "    allowfullscreen\n",
              "></iframe>\n"
            ]
          },
          "metadata": {},
          "output_type": "display_data"
        }
      ],
      "source": [
        "fig = px.line(spy, x=spy.index, y=\"atr_pct\", title=\"SPY ATR% Over Time\")\n",
        "fig.add_hline(y=0.03, line_dash=\"dot\", line_color=\"green\", annotation_text=\"Low Volatility Cutoff\")\n",
        "fig.show()"
      ]
    },
    {
      "cell_type": "code",
      "execution_count": 44,
      "metadata": {},
      "outputs": [
        {
          "data": {
            "text/html": [
              "<iframe\n",
              "    scrolling=\"no\"\n",
              "    width=\"100%\"\n",
              "    height=\"545px\"\n",
              "    src=\"iframe_figures/figure_44.html\"\n",
              "    frameborder=\"0\"\n",
              "    allowfullscreen\n",
              "></iframe>\n"
            ]
          },
          "metadata": {},
          "output_type": "display_data"
        }
      ],
      "source": [
        "# Filter only 2025 data\n",
        "spy_2025 = spy[spy.index.year == 2025]\n",
        "\n",
        "# Plot\n",
        "fig = px.line(spy_2025, x=spy_2025.index, y=\"atr_pct\", title=\"SPY ATR% Over Time (2025 Only)\")\n",
        "fig.add_hline(y=0.03, line_dash=\"dot\", line_color=\"green\", annotation_text=\"Low Volatility Cutoff\")\n",
        "fig.show()"
      ]
    },
    {
      "cell_type": "code",
      "execution_count": 45,
      "metadata": {},
      "outputs": [],
      "source": [
        "spy = signal_generation(spy, 'SPY')"
      ]
    },
    {
      "cell_type": "code",
      "execution_count": 46,
      "metadata": {},
      "outputs": [
        {
          "name": "stdout",
          "output_type": "stream",
          "text": [
            "Final Capital: $100515.03 \n",
            "Total Return: $515.03 \n",
            "Total Trades: 56\n",
            "Average Profit per Trade: $9.20\n"
          ]
        }
      ],
      "source": [
        "print(backtest(spy, 'SPY'))"
      ]
    },
    {
      "cell_type": "code",
      "execution_count": 47,
      "metadata": {},
      "outputs": [
        {
          "name": "stdout",
          "output_type": "stream",
          "text": [
            "Start                         2019-01-02 00:00:00\n",
            "End                           2025-03-04 00:00:00\n",
            "Period                                       1551\n",
            "Start Value                              100000.0\n",
            "End Value                           149876.046124\n",
            "Total Return [%]                        49.876046\n",
            "Benchmark Return [%]                   153.411688\n",
            "Max Gross Exposure [%]                      100.0\n",
            "Total Fees Paid                      14500.381668\n",
            "Max Drawdown [%]                        19.809446\n",
            "Max Drawdown Duration                       584.0\n",
            "Total Trades                                   56\n",
            "Total Closed Trades                            56\n",
            "Total Open Trades                               0\n",
            "Open Trade PnL                                0.0\n",
            "Win Rate [%]                            55.357143\n",
            "Best Trade [%]                           7.385099\n",
            "Worst Trade [%]                         -9.885438\n",
            "Avg Winning Trade [%]                    3.135409\n",
            "Avg Losing Trade [%]                    -2.130089\n",
            "Avg Winning Trade Duration              28.258065\n",
            "Avg Losing Trade Duration                    7.56\n",
            "Profit Factor                            1.712196\n",
            "Expectancy                             890.643681\n",
            "dtype: object\n"
          ]
        },
        {
          "name": "stderr",
          "output_type": "stream",
          "text": [
            "/Users/dinarazhorabek/Library/Python/3.9/lib/python/site-packages/vectorbt/generic/stats_builder.py:396: UserWarning:\n",
            "\n",
            "Metric 'sharpe_ratio' requires frequency to be set\n",
            "\n",
            "/Users/dinarazhorabek/Library/Python/3.9/lib/python/site-packages/vectorbt/generic/stats_builder.py:396: UserWarning:\n",
            "\n",
            "Metric 'calmar_ratio' requires frequency to be set\n",
            "\n",
            "/Users/dinarazhorabek/Library/Python/3.9/lib/python/site-packages/vectorbt/generic/stats_builder.py:396: UserWarning:\n",
            "\n",
            "Metric 'omega_ratio' requires frequency to be set\n",
            "\n",
            "/Users/dinarazhorabek/Library/Python/3.9/lib/python/site-packages/vectorbt/generic/stats_builder.py:396: UserWarning:\n",
            "\n",
            "Metric 'sortino_ratio' requires frequency to be set\n",
            "\n"
          ]
        },
        {
          "data": {
            "text/html": [
              "<iframe\n",
              "    scrolling=\"no\"\n",
              "    width=\"770px\"\n",
              "    height=\"980\"\n",
              "    src=\"iframe_figures/figure_47.html\"\n",
              "    frameborder=\"0\"\n",
              "    allowfullscreen\n",
              "></iframe>\n"
            ]
          },
          "metadata": {},
          "output_type": "display_data"
        }
      ],
      "source": [
        "spy_portfolio = f_portfolio(spy, 'SPY')\n",
        "print(spy_portfolio.stats())\n",
        "spy_portfolio.plot().show()"
      ]
    },
    {
      "attachments": {},
      "cell_type": "markdown",
      "metadata": {},
      "source": [
        "## Optimization (TSLA)"
      ]
    },
    {
      "cell_type": "code",
      "execution_count": 48,
      "metadata": {},
      "outputs": [
        {
          "name": "stderr",
          "output_type": "stream",
          "text": [
            "/Users/dinarazhorabek/Library/Python/3.9/lib/python/site-packages/vectorbt/generic/stats_builder.py:396: UserWarning:\n",
            "\n",
            "Metric 'sharpe_ratio' requires frequency to be set\n",
            "\n",
            "/Users/dinarazhorabek/Library/Python/3.9/lib/python/site-packages/vectorbt/generic/stats_builder.py:396: UserWarning:\n",
            "\n",
            "Metric 'calmar_ratio' requires frequency to be set\n",
            "\n",
            "/Users/dinarazhorabek/Library/Python/3.9/lib/python/site-packages/vectorbt/generic/stats_builder.py:396: UserWarning:\n",
            "\n",
            "Metric 'omega_ratio' requires frequency to be set\n",
            "\n",
            "/Users/dinarazhorabek/Library/Python/3.9/lib/python/site-packages/vectorbt/generic/stats_builder.py:396: UserWarning:\n",
            "\n",
            "Metric 'sortino_ratio' requires frequency to be set\n",
            "\n",
            "/Users/dinarazhorabek/Library/Python/3.9/lib/python/site-packages/vectorbt/generic/stats_builder.py:396: UserWarning:\n",
            "\n",
            "Metric 'sharpe_ratio' requires frequency to be set\n",
            "\n",
            "/Users/dinarazhorabek/Library/Python/3.9/lib/python/site-packages/vectorbt/generic/stats_builder.py:396: UserWarning:\n",
            "\n",
            "Metric 'calmar_ratio' requires frequency to be set\n",
            "\n",
            "/Users/dinarazhorabek/Library/Python/3.9/lib/python/site-packages/vectorbt/generic/stats_builder.py:396: UserWarning:\n",
            "\n",
            "Metric 'omega_ratio' requires frequency to be set\n",
            "\n",
            "/Users/dinarazhorabek/Library/Python/3.9/lib/python/site-packages/vectorbt/generic/stats_builder.py:396: UserWarning:\n",
            "\n",
            "Metric 'sortino_ratio' requires frequency to be set\n",
            "\n",
            "/Users/dinarazhorabek/Library/Python/3.9/lib/python/site-packages/vectorbt/generic/stats_builder.py:396: UserWarning:\n",
            "\n",
            "Metric 'sharpe_ratio' requires frequency to be set\n",
            "\n",
            "/Users/dinarazhorabek/Library/Python/3.9/lib/python/site-packages/vectorbt/generic/stats_builder.py:396: UserWarning:\n",
            "\n",
            "Metric 'calmar_ratio' requires frequency to be set\n",
            "\n",
            "/Users/dinarazhorabek/Library/Python/3.9/lib/python/site-packages/vectorbt/generic/stats_builder.py:396: UserWarning:\n",
            "\n",
            "Metric 'omega_ratio' requires frequency to be set\n",
            "\n",
            "/Users/dinarazhorabek/Library/Python/3.9/lib/python/site-packages/vectorbt/generic/stats_builder.py:396: UserWarning:\n",
            "\n",
            "Metric 'sortino_ratio' requires frequency to be set\n",
            "\n",
            "/Users/dinarazhorabek/Library/Python/3.9/lib/python/site-packages/vectorbt/generic/stats_builder.py:396: UserWarning:\n",
            "\n",
            "Metric 'sharpe_ratio' requires frequency to be set\n",
            "\n",
            "/Users/dinarazhorabek/Library/Python/3.9/lib/python/site-packages/vectorbt/generic/stats_builder.py:396: UserWarning:\n",
            "\n",
            "Metric 'calmar_ratio' requires frequency to be set\n",
            "\n",
            "/Users/dinarazhorabek/Library/Python/3.9/lib/python/site-packages/vectorbt/generic/stats_builder.py:396: UserWarning:\n",
            "\n",
            "Metric 'omega_ratio' requires frequency to be set\n",
            "\n",
            "/Users/dinarazhorabek/Library/Python/3.9/lib/python/site-packages/vectorbt/generic/stats_builder.py:396: UserWarning:\n",
            "\n",
            "Metric 'sortino_ratio' requires frequency to be set\n",
            "\n"
          ]
        },
        {
          "name": "stdout",
          "output_type": "stream",
          "text": [
            "✅ Best Performing Period: 7 days\n"
          ]
        },
        {
          "data": {
            "text/html": [
              "<iframe\n",
              "    scrolling=\"no\"\n",
              "    width=\"770px\"\n",
              "    height=\"980\"\n",
              "    src=\"iframe_figures/figure_48.html\"\n",
              "    frameborder=\"0\"\n",
              "    allowfullscreen\n",
              "></iframe>\n"
            ]
          },
          "metadata": {},
          "output_type": "display_data"
        },
        {
          "name": "stdout",
          "output_type": "stream",
          "text": [
            "Start                         2019-01-02 00:00:00\n",
            "End                           2025-03-04 00:00:00\n",
            "Period                                       1551\n",
            "Start Value                               10000.0\n",
            "End Value                            10480.194603\n",
            "Total Return [%]                         4.801946\n",
            "Benchmark Return [%]                  1215.813231\n",
            "Max Gross Exposure [%]                   4.554966\n",
            "Total Fees Paid                               0.0\n",
            "Max Drawdown [%]                         0.793073\n",
            "Max Drawdown Duration                       351.0\n",
            "Total Trades                                  113\n",
            "Total Closed Trades                           113\n",
            "Total Open Trades                               0\n",
            "Open Trade PnL                                0.0\n",
            "Win Rate [%]                            44.247788\n",
            "Best Trade [%]                         128.434899\n",
            "Worst Trade [%]                        -15.721837\n",
            "Avg Winning Trade [%]                   14.052436\n",
            "Avg Losing Trade [%]                    -4.125181\n",
            "Avg Winning Trade Duration                  11.44\n",
            "Avg Losing Trade Duration                4.206349\n",
            "Profit Factor                            2.096188\n",
            "Expectancy                                4.24951\n",
            "dtype: object\n"
          ]
        },
        {
          "name": "stderr",
          "output_type": "stream",
          "text": [
            "/Users/dinarazhorabek/Library/Python/3.9/lib/python/site-packages/vectorbt/generic/stats_builder.py:396: UserWarning:\n",
            "\n",
            "Metric 'sharpe_ratio' requires frequency to be set\n",
            "\n",
            "/Users/dinarazhorabek/Library/Python/3.9/lib/python/site-packages/vectorbt/generic/stats_builder.py:396: UserWarning:\n",
            "\n",
            "Metric 'calmar_ratio' requires frequency to be set\n",
            "\n",
            "/Users/dinarazhorabek/Library/Python/3.9/lib/python/site-packages/vectorbt/generic/stats_builder.py:396: UserWarning:\n",
            "\n",
            "Metric 'omega_ratio' requires frequency to be set\n",
            "\n",
            "/Users/dinarazhorabek/Library/Python/3.9/lib/python/site-packages/vectorbt/generic/stats_builder.py:396: UserWarning:\n",
            "\n",
            "Metric 'sortino_ratio' requires frequency to be set\n",
            "\n"
          ]
        }
      ],
      "source": [
        "# Define a list of different smoothing periods to test for the Vortex Indicator\n",
        "periods = [7, 14, 21, 30]\n",
        "results = {}  # Dictionary to store performance metrics for each period\n",
        "\n",
        "# Loop through each smoothing period\n",
        "for n in periods:\n",
        "    # === Compute Vortex Indicator for the given period ===\n",
        "    tsla[f'VI+{n}'], tsla[f'VI-{n}'] = calculate_vortex(tsla, 'TSLA', n)\n",
        "\n",
        "    # === Generate Buy/Sell signals based on crossover logic ===\n",
        "    # Buy when VI+ crosses above VI-\n",
        "    tsla[f'Buy_{n}'] = tsla[f'VI+{n}'] > tsla[f'VI-{n}']\n",
        "    # Sell when VI- crosses above VI+\n",
        "    tsla[f'Sell_{n}'] = tsla[f'VI-{n}'] > tsla[f'VI+{n}']\n",
        "\n",
        "    # === Convert boolean signals to actual entry/exit Series ===\n",
        "    entries = tsla[f'Buy_{n}']\n",
        "    exits = tsla[f'Sell_{n}']\n",
        "\n",
        "    # === Run a backtest using vectorbt Portfolio object ===\n",
        "    portfolio = vbt.Portfolio.from_signals(\n",
        "        close=tsla['Close_TSLA'],  # TSLA closing prices\n",
        "        entries=entries,\n",
        "        exits=exits,\n",
        "        size=1,  # Assume buying 1 share per trade\n",
        "        init_cash=10_000  # Initial capital for backtest\n",
        "    )\n",
        "\n",
        "    # === Store backtest performance metrics in results dict ===\n",
        "    stats = portfolio.stats()\n",
        "    results[n] = stats\n",
        "\n",
        "# Identify the period with the highest total return\n",
        "best_period = max(results, key=lambda x: results[x]['Total Return [%]'])\n",
        "print(f\"✅ Best Performing Period: {best_period} days\")\n",
        "\n",
        "# Rebuild portfolio using the best period to visualize it\n",
        "portfolio = vbt.Portfolio.from_signals(\n",
        "    close=tsla['Close_TSLA'],\n",
        "    entries=tsla[f'VI+{best_period}'] > tsla[f'VI-{best_period}'],\n",
        "    exits=tsla[f'VI-{best_period}'] > tsla[f'VI+{best_period}'],\n",
        "    size=1,\n",
        "    init_cash=10_000\n",
        ")\n",
        "\n",
        "# Plot the results of the best strategy\n",
        "portfolio.plot().show()\n",
        "print(portfolio.stats())\n"
      ]
    },
    {
      "attachments": {},
      "cell_type": "markdown",
      "metadata": {},
      "source": [
        "## Peer Comparison: Apple Analysis Results "
      ]
    },
    {
      "cell_type": "code",
      "execution_count": 49,
      "metadata": {},
      "outputs": [
        {
          "name": "stderr",
          "output_type": "stream",
          "text": [
            "[*********************100%***********************]  1 of 1 completed\n"
          ]
        }
      ],
      "source": [
        "aapl = yf.download('AAPL', start='2019-01-01', end='2025-03-05')\n",
        "aapl = multiindex_to_singleindex(aapl)\n",
        "get_news_sentiment('AAPL', '20250101T0130', '20250301T0130', 1000, 'PNM5EHRALIOT1CKJ')\n",
        "aapl['VI+'], aapl['VI-'] = calculate_vortex(aapl, 'AAPL')"
      ]
    },
    {
      "cell_type": "code",
      "execution_count": 50,
      "metadata": {},
      "outputs": [
        {
          "name": "stdout",
          "output_type": "stream",
          "text": [
            "            Close_AAPL    ATR_10   atr_pct  position_size\n",
            "Date                                                     \n",
            "2025-02-19  244.869995  4.939392  0.020171           0.01\n",
            "2025-02-20  245.830002  4.735891  0.019265           0.01\n",
            "2025-02-21  245.550003  4.746260  0.019329           0.01\n",
            "2025-02-24  247.100006  4.517000  0.018280           0.01\n",
            "2025-02-25  247.039993  4.687000  0.018973           0.01\n",
            "2025-02-26  240.360001  4.719998  0.019637           0.01\n",
            "2025-02-27  237.300003  4.631998  0.019520           0.01\n",
            "2025-02-28  241.839996  5.143999  0.021270           0.01\n",
            "2025-03-03  238.029999  5.479999  0.023022           0.01\n",
            "2025-03-04  235.929993  5.685001  0.024096           0.01\n"
          ]
        }
      ],
      "source": [
        "aapl = calculate_true_range(aapl, 'AAPL')\n",
        "aapl[\"position_size\"] = aapl.apply(position_size, axis=1)\n",
        "\n",
        "# ---- Preview ----\n",
        "print(aapl[[\"Close_AAPL\", \"ATR_10\", \"atr_pct\", \"position_size\"]].tail(10))"
      ]
    },
    {
      "cell_type": "code",
      "execution_count": 51,
      "metadata": {},
      "outputs": [
        {
          "name": "stdout",
          "output_type": "stream",
          "text": [
            "Buy signals: 985\n",
            "Sell signals: 552\n"
          ]
        }
      ],
      "source": [
        "aapl = signal_generation(aapl, 'AAPL')\n",
        "# Display the total number of buy and sell signals generated across the dataset\n",
        "print(\"Buy signals:\", aapl['Buy_Signal'].sum())\n",
        "print(\"Sell signals:\", aapl['Sell_Signal'].sum())"
      ]
    },
    {
      "cell_type": "code",
      "execution_count": 52,
      "metadata": {},
      "outputs": [
        {
          "name": "stdout",
          "output_type": "stream",
          "text": [
            "Buy signals: 66\n",
            "Sell signals: 66\n",
            "Aggressive entries: 45\n",
            "Conservative entries: 21\n"
          ]
        }
      ],
      "source": [
        "# Calculate ATR as a percentage of the closing price to normalize volatility\n",
        "aapl['atr_pct'] = aapl['ATR_10'] / aapl['Close_AAPL']\n",
        "\n",
        "# Define Vortex Indicator crossover signals:\n",
        "# - VI_Cross_Up: Identifies when VI+ crosses above VI− (potential bullish signal)\n",
        "# - VI_Cross_Down: Identifies when VI− crosses above VI+ (potential bearish signal)\n",
        "aapl['VI_Cross_Up'] = (aapl['VI+'] > aapl['VI-']) & (aapl['VI+'].shift(1) <= aapl['VI-'].shift(1))\n",
        "aapl['VI_Cross_Down'] = (aapl['VI-'] > aapl['VI+']) & (aapl['VI-'].shift(1) <= aapl['VI+'].shift(1))\n",
        "\n",
        "# Initialize signal and state columns\n",
        "aapl['Buy_Signal'] = False          # Flag for buy signal\n",
        "aapl['Sell_Signal'] = False         # Flag for sell signal\n",
        "aapl['Position'] = 0                # Position state: 1 = in position, 0 = no position\n",
        "aapl['Entry_Type'] = None           # Strategy classification: 'aggressive' or 'conservative'\n",
        "\n",
        "# Initialize control variables for trailing stop and price tracking\n",
        "in_position = False                 # Boolean flag for current position state\n",
        "peak_price = 0                      # Highest price observed during an open position\n",
        "\n",
        "# Iterate through the DataFrame to simulate trading logic based on Vortex signals and volatility\n",
        "for i in range(1, len(aapl)):\n",
        "    row = aapl.iloc[i]\n",
        "    idx = aapl.index[i]\n",
        "\n",
        "    # Buy condition: Enter a new position if VI_Cross_Up occurs and no current position is held\n",
        "    if not in_position and row['VI_Cross_Up']:\n",
        "        aapl.at[idx, 'Buy_Signal'] = True\n",
        "        aapl.at[idx, 'Position'] = 1\n",
        "        in_position = True\n",
        "        peak_price = row['Close_AAPL']\n",
        "\n",
        "        # Classify entry type based on volatility threshold\n",
        "        if row['atr_pct'] < 0.03:\n",
        "            aapl.at[idx, 'Entry_Type'] = 'aggressive'\n",
        "        else:\n",
        "            aapl.at[idx, 'Entry_Type'] = 'conservative'\n",
        "\n",
        "    # While in position, evaluate for trailing stop or VI_Cross_Down exit condition\n",
        "    elif in_position:\n",
        "        current_price = row['Close_AAPL']\n",
        "        peak_price = max(peak_price, current_price)\n",
        "        drawdown = (peak_price - current_price) / peak_price\n",
        "\n",
        "        # Sell condition: Exit if drawdown exceeds 3% or VI_Cross_Down occurs\n",
        "        if drawdown >= 0.03 or row['VI_Cross_Down']:\n",
        "            aapl.at[idx, 'Sell_Signal'] = True\n",
        "            aapl.at[idx, 'Position'] = 0\n",
        "            in_position = False\n",
        "        else:\n",
        "            aapl.at[idx, 'Position'] = 1  # Maintain position\n",
        "\n",
        "# Output the total count of each type of signal and entry classification\n",
        "print(\"Buy signals:\", aapl['Buy_Signal'].sum())\n",
        "print(\"Sell signals:\", aapl['Sell_Signal'].sum())\n",
        "print(\"Aggressive entries:\", (aapl['Entry_Type'] == 'aggressive').sum())\n",
        "print(\"Conservative entries:\", (aapl['Entry_Type'] == 'conservative').sum())"
      ]
    },
    {
      "cell_type": "code",
      "execution_count": 53,
      "metadata": {},
      "outputs": [],
      "source": [
        "aapl_sentiment_df = json_reader('AAPL')"
      ]
    },
    {
      "cell_type": "code",
      "execution_count": 54,
      "metadata": {},
      "outputs": [],
      "source": [
        "aapl_sentiment_scores_filtered = aapl_sentiment_df[(aapl_sentiment_df['time_published']).isin(aapl.index)]\n",
        "aapl_sentiment_scores_filtered = aapl_sentiment_scores_filtered.groupby('time_published')['sentiment_score'].mean().reset_index()"
      ]
    },
    {
      "cell_type": "code",
      "execution_count": 55,
      "metadata": {},
      "outputs": [],
      "source": [
        "aapl_merged_data = pd.merge(\n",
        "    aapl['Volume_AAPL'].reset_index().rename(columns={'Volume_AAPL': 'Volume'}),\n",
        "    aapl_sentiment_scores_filtered,\n",
        "    left_on='Date',\n",
        "    right_on='time_published',\n",
        "    how='inner'\n",
        ")\n",
        "# Compute the weighted sentiment by multiplying raw sentiment by trading volume\n",
        "aapl_merged_data['Weighted_Sentiment'] = aapl_merged_data['Volume'] * aapl_merged_data['sentiment_score']\n",
        "\n",
        "# Calculate a 5-day rolling average of the weighted sentiment to smooth short-term noise\n",
        "aapl_merged_data['5_day_avg_sentiment'] = aapl_merged_data['Weighted_Sentiment'].rolling(window=5).mean()\n",
        "\n",
        "# Define a binary condition for when the average sentiment is positive\n",
        "aapl_merged_data['Buy_Condition'] = aapl_merged_data['5_day_avg_sentiment'] > 0\n",
        "\n",
        "# Normalize the rolling sentiment score by average volume to allow comparability across scales\n",
        "aapl_merged_data['5_day_avg_sentiment_norm'] = (\n",
        "    aapl_merged_data['5_day_avg_sentiment'] / aapl_merged_data['Volume'].mean()\n",
        ")"
      ]
    },
    {
      "cell_type": "code",
      "execution_count": 56,
      "metadata": {},
      "outputs": [
        {
          "name": "stdout",
          "output_type": "stream",
          "text": [
            "            Close_AAPL    ATR_10   atr_pct  position_size\n",
            "Date                                                     \n",
            "2025-02-19  244.869995  4.939392  0.020171           0.01\n",
            "2025-02-20  245.830002  4.735891  0.019265           0.01\n",
            "2025-02-21  245.550003  4.746260  0.019329           0.01\n",
            "2025-02-24  247.100006  4.517000  0.018280           0.01\n",
            "2025-02-25  247.039993  4.687000  0.018973           0.01\n",
            "2025-02-26  240.360001  4.719998  0.019637           0.01\n",
            "2025-02-27  237.300003  4.631998  0.019520           0.01\n",
            "2025-02-28  241.839996  5.143999  0.021270           0.01\n",
            "2025-03-03  238.029999  5.479999  0.023022           0.01\n",
            "2025-03-04  235.929993  5.685001  0.024096           0.01\n"
          ]
        }
      ],
      "source": [
        "aapl = calculate_true_range(aapl, 'AAPL')\n",
        "aapl[\"position_size\"] = aapl.apply(position_size, axis=1)\n",
        "\n",
        "# ---- Preview ----\n",
        "print(aapl[[\"Close_AAPL\", \"ATR_10\", \"atr_pct\", \"position_size\"]].tail(10))"
      ]
    },
    {
      "cell_type": "code",
      "execution_count": 57,
      "metadata": {},
      "outputs": [
        {
          "data": {
            "text/html": [
              "<div>\n",
              "<style scoped>\n",
              "    .dataframe tbody tr th:only-of-type {\n",
              "        vertical-align: middle;\n",
              "    }\n",
              "\n",
              "    .dataframe tbody tr th {\n",
              "        vertical-align: top;\n",
              "    }\n",
              "\n",
              "    .dataframe thead th {\n",
              "        text-align: right;\n",
              "    }\n",
              "</style>\n",
              "<table border=\"1\" class=\"dataframe\">\n",
              "  <thead>\n",
              "    <tr style=\"text-align: right;\">\n",
              "      <th></th>\n",
              "      <th>Date</th>\n",
              "      <th>Volume</th>\n",
              "      <th>time_published</th>\n",
              "      <th>sentiment_score</th>\n",
              "      <th>Weighted_Sentiment</th>\n",
              "      <th>5_day_avg_sentiment</th>\n",
              "      <th>Buy_Condition</th>\n",
              "      <th>5_day_avg_sentiment_norm</th>\n",
              "      <th>Close_AAPL</th>\n",
              "      <th>High_AAPL</th>\n",
              "      <th>...</th>\n",
              "      <th>Volume_AAPL</th>\n",
              "      <th>VI+</th>\n",
              "      <th>VI-</th>\n",
              "      <th>prev_close</th>\n",
              "      <th>tr1</th>\n",
              "      <th>tr2</th>\n",
              "      <th>tr3</th>\n",
              "      <th>true_range</th>\n",
              "      <th>ATR_10</th>\n",
              "      <th>position_size</th>\n",
              "    </tr>\n",
              "  </thead>\n",
              "  <tbody>\n",
              "    <tr>\n",
              "      <th>0</th>\n",
              "      <td>2025-01-15</td>\n",
              "      <td>39832000</td>\n",
              "      <td>2025-01-15</td>\n",
              "      <td>0.223177</td>\n",
              "      <td>8.889575e+06</td>\n",
              "      <td>NaN</td>\n",
              "      <td>False</td>\n",
              "      <td>NaN</td>\n",
              "      <td>237.608749</td>\n",
              "      <td>238.697564</td>\n",
              "      <td>...</td>\n",
              "      <td>39832000</td>\n",
              "      <td>0.595080</td>\n",
              "      <td>1.102317</td>\n",
              "      <td>233.023788</td>\n",
              "      <td>4.525039</td>\n",
              "      <td>5.673775</td>\n",
              "      <td>1.148737</td>\n",
              "      <td>5.673775</td>\n",
              "      <td>5.283191</td>\n",
              "      <td>0.01</td>\n",
              "    </tr>\n",
              "    <tr>\n",
              "      <th>1</th>\n",
              "      <td>2025-01-16</td>\n",
              "      <td>71759100</td>\n",
              "      <td>2025-01-16</td>\n",
              "      <td>0.237567</td>\n",
              "      <td>1.704756e+07</td>\n",
              "      <td>NaN</td>\n",
              "      <td>False</td>\n",
              "      <td>NaN</td>\n",
              "      <td>228.009308</td>\n",
              "      <td>237.748600</td>\n",
              "      <td>...</td>\n",
              "      <td>71759100</td>\n",
              "      <td>0.524560</td>\n",
              "      <td>1.139218</td>\n",
              "      <td>237.608749</td>\n",
              "      <td>9.969035</td>\n",
              "      <td>0.139851</td>\n",
              "      <td>9.829185</td>\n",
              "      <td>9.969035</td>\n",
              "      <td>5.895516</td>\n",
              "      <td>0.01</td>\n",
              "    </tr>\n",
              "    <tr>\n",
              "      <th>2</th>\n",
              "      <td>2025-01-17</td>\n",
              "      <td>68488300</td>\n",
              "      <td>2025-01-17</td>\n",
              "      <td>0.130304</td>\n",
              "      <td>8.924326e+06</td>\n",
              "      <td>NaN</td>\n",
              "      <td>False</td>\n",
              "      <td>NaN</td>\n",
              "      <td>229.727417</td>\n",
              "      <td>232.034878</td>\n",
              "      <td>...</td>\n",
              "      <td>68488300</td>\n",
              "      <td>0.506950</td>\n",
              "      <td>1.231532</td>\n",
              "      <td>228.009308</td>\n",
              "      <td>3.805813</td>\n",
              "      <td>4.025570</td>\n",
              "      <td>0.219757</td>\n",
              "      <td>4.025570</td>\n",
              "      <td>5.439019</td>\n",
              "      <td>0.01</td>\n",
              "    </tr>\n",
              "    <tr>\n",
              "      <th>3</th>\n",
              "      <td>2025-01-21</td>\n",
              "      <td>98070400</td>\n",
              "      <td>2025-01-21</td>\n",
              "      <td>0.169273</td>\n",
              "      <td>1.660064e+07</td>\n",
              "      <td>NaN</td>\n",
              "      <td>False</td>\n",
              "      <td>NaN</td>\n",
              "      <td>222.395477</td>\n",
              "      <td>224.173521</td>\n",
              "      <td>...</td>\n",
              "      <td>98070400</td>\n",
              "      <td>0.514695</td>\n",
              "      <td>1.233423</td>\n",
              "      <td>229.727417</td>\n",
              "      <td>5.034458</td>\n",
              "      <td>5.553896</td>\n",
              "      <td>10.588354</td>\n",
              "      <td>10.588354</td>\n",
              "      <td>6.269107</td>\n",
              "      <td>0.01</td>\n",
              "    </tr>\n",
              "    <tr>\n",
              "      <th>4</th>\n",
              "      <td>2025-01-22</td>\n",
              "      <td>64126500</td>\n",
              "      <td>2025-01-22</td>\n",
              "      <td>0.182421</td>\n",
              "      <td>1.169803e+07</td>\n",
              "      <td>1.263203e+07</td>\n",
              "      <td>True</td>\n",
              "      <td>0.231401</td>\n",
              "      <td>223.584167</td>\n",
              "      <td>223.873842</td>\n",
              "      <td>...</td>\n",
              "      <td>64126500</td>\n",
              "      <td>0.570450</td>\n",
              "      <td>1.200538</td>\n",
              "      <td>222.395477</td>\n",
              "      <td>4.325246</td>\n",
              "      <td>1.478365</td>\n",
              "      <td>2.846881</td>\n",
              "      <td>4.325246</td>\n",
              "      <td>6.289084</td>\n",
              "      <td>0.01</td>\n",
              "    </tr>\n",
              "  </tbody>\n",
              "</table>\n",
              "<p>5 rows × 22 columns</p>\n",
              "</div>"
            ],
            "text/plain": [
              "        Date    Volume time_published  sentiment_score  Weighted_Sentiment  \\\n",
              "0 2025-01-15  39832000     2025-01-15         0.223177        8.889575e+06   \n",
              "1 2025-01-16  71759100     2025-01-16         0.237567        1.704756e+07   \n",
              "2 2025-01-17  68488300     2025-01-17         0.130304        8.924326e+06   \n",
              "3 2025-01-21  98070400     2025-01-21         0.169273        1.660064e+07   \n",
              "4 2025-01-22  64126500     2025-01-22         0.182421        1.169803e+07   \n",
              "\n",
              "   5_day_avg_sentiment  Buy_Condition  5_day_avg_sentiment_norm  Close_AAPL  \\\n",
              "0                  NaN          False                       NaN  237.608749   \n",
              "1                  NaN          False                       NaN  228.009308   \n",
              "2                  NaN          False                       NaN  229.727417   \n",
              "3                  NaN          False                       NaN  222.395477   \n",
              "4         1.263203e+07           True                  0.231401  223.584167   \n",
              "\n",
              "    High_AAPL  ...  Volume_AAPL       VI+       VI-  prev_close       tr1  \\\n",
              "0  238.697564  ...     39832000  0.595080  1.102317  233.023788  4.525039   \n",
              "1  237.748600  ...     71759100  0.524560  1.139218  237.608749  9.969035   \n",
              "2  232.034878  ...     68488300  0.506950  1.231532  228.009308  3.805813   \n",
              "3  224.173521  ...     98070400  0.514695  1.233423  229.727417  5.034458   \n",
              "4  223.873842  ...     64126500  0.570450  1.200538  222.395477  4.325246   \n",
              "\n",
              "        tr2        tr3  true_range    ATR_10  position_size  \n",
              "0  5.673775   1.148737    5.673775  5.283191           0.01  \n",
              "1  0.139851   9.829185    9.969035  5.895516           0.01  \n",
              "2  4.025570   0.219757    4.025570  5.439019           0.01  \n",
              "3  5.553896  10.588354   10.588354  6.269107           0.01  \n",
              "4  1.478365   2.846881    4.325246  6.289084           0.01  \n",
              "\n",
              "[5 rows x 22 columns]"
            ]
          },
          "execution_count": 57,
          "metadata": {},
          "output_type": "execute_result"
        }
      ],
      "source": [
        "aapl_merged_data = pd.merge(\n",
        "    aapl_merged_data, \n",
        "    aapl[['Close_AAPL', 'High_AAPL', 'Low_AAPL', 'Open_AAPL', 'Volume_AAPL',\n",
        "          'VI+', 'VI-', 'prev_close', 'tr1', 'tr2', 'tr3', 'true_range', 'ATR_10', 'position_size']], \n",
        "    on='Date', \n",
        "    how='left')\n",
        "aapl_merged_data.head()"
      ]
    },
    {
      "cell_type": "code",
      "execution_count": 58,
      "metadata": {},
      "outputs": [
        {
          "name": "stdout",
          "output_type": "stream",
          "text": [
            "Buy signals: 28\n",
            "Sell signals: 1\n",
            "Aggressive entries: 23\n",
            "Conservative entries: 5\n"
          ]
        }
      ],
      "source": [
        "# Calculate ATR percentage\n",
        "aapl_merged_data['atr_pct'] = aapl_merged_data['ATR_10'] / aapl_merged_data['Close_AAPL']\n",
        "\n",
        "# Vortex crossover logic\n",
        "aapl_merged_data['VI_Cross_Up'] = (aapl_merged_data['VI+'] > aapl_merged_data['VI-']) & (aapl_merged_data['VI+'].shift(1) <= aapl_merged_data['VI-'].shift(1))\n",
        "aapl_merged_data['VI_Cross_Down'] = (aapl_merged_data['VI-'] > aapl_merged_data['VI+']) & (aapl_merged_data['VI-'].shift(1) <= aapl_merged_data['VI+'].shift(1))\n",
        "\n",
        "# Initialize signal & state columns\n",
        "aapl_merged_data['Buy_Signal'] = False\n",
        "aapl_merged_data['Sell_Signal'] = False\n",
        "aapl_merged_data['Position'] = 0\n",
        "aapl_merged_data['Entry_Type'] = None  # aggressive/conservative\n",
        "\n",
        "# Trailing stop logic variables\n",
        "in_position = False\n",
        "peak_price = 0\n",
        "\n",
        "for i in range(1, len(aapl_merged_data)):\n",
        "    row = aapl_merged_data.iloc[i]\n",
        "    idx = aapl_merged_data.index[i]\n",
        "    # Buy condition\n",
        "    if not in_position or row['VI_Cross_Up'] or row['5_day_avg_sentiment_norm']>0:\n",
        "        aapl_merged_data.at[idx, 'Buy_Signal'] = True\n",
        "        aapl_merged_data.at[idx, 'Position'] = 1\n",
        "        in_position = True\n",
        "        peak_price = row['Close_AAPL']\n",
        "\n",
        "        # Entry Type: aggressive if ATR < 3%, else conservative\n",
        "        if row['atr_pct'] < 0.03:\n",
        "            aapl_merged_data.at[idx, 'Entry_Type'] = 'aggressive'\n",
        "        else:\n",
        "            aapl_merged_data.at[idx, 'Entry_Type'] = 'conservative'\n",
        "\n",
        "    # While in position, check for trailing stop or VI cross down\n",
        "    elif in_position:\n",
        "        current_price = row['Close_AAPL']\n",
        "        peak_price = max(peak_price, current_price)\n",
        "        drawdown = (peak_price - current_price) / peak_price\n",
        "\n",
        "        if drawdown >= 0.03 or row['VI_Cross_Down']:\n",
        "            aapl_merged_data.at[idx, 'Sell_Signal'] = True\n",
        "            aapl_merged_data.at[idx, 'Position'] = 0\n",
        "            in_position = False\n",
        "        else:\n",
        "            aapl_merged_data.at[idx, 'Position'] = 1\n",
        "\n",
        "# Show result counts\n",
        "print(\"Buy signals:\", aapl_merged_data['Buy_Signal'].sum())\n",
        "print(\"Sell signals:\", aapl_merged_data['Sell_Signal'].sum())\n",
        "print(\"Aggressive entries:\", (aapl_merged_data['Entry_Type'] == 'aggressive').sum())\n",
        "print(\"Conservative entries:\", (aapl_merged_data['Entry_Type'] == 'conservative').sum())"
      ]
    },
    {
      "cell_type": "code",
      "execution_count": 59,
      "metadata": {},
      "outputs": [
        {
          "data": {
            "text/html": [
              "<iframe\n",
              "    scrolling=\"no\"\n",
              "    width=\"100%\"\n",
              "    height=\"520\"\n",
              "    src=\"iframe_figures/figure_59.html\"\n",
              "    frameborder=\"0\"\n",
              "    allowfullscreen\n",
              "></iframe>\n"
            ]
          },
          "metadata": {},
          "output_type": "display_data"
        }
      ],
      "source": [
        "# Ensure 'Date' is datetime and set as index if needed\n",
        "aapl_merged_data['Date'] = pd.to_datetime(aapl_merged_data['Date'])\n",
        "\n",
        "fig = go.Figure()\n",
        "\n",
        "# Plot 5-day Avg Sentiment\n",
        "fig.add_trace(go.Scatter(\n",
        "    x=aapl_merged_data['Date'],\n",
        "    y=aapl_merged_data['5_day_avg_sentiment_norm'],\n",
        "    mode='lines+markers',\n",
        "    name='5-Day Avg Sentiment',\n",
        "    line=dict(color='blue')\n",
        "))\n",
        "\n",
        "# Plot ATR %\n",
        "fig.add_trace(go.Scatter(\n",
        "    x=aapl_merged_data['Date'],\n",
        "    y=aapl_merged_data['atr_pct'],\n",
        "    mode='lines+markers',\n",
        "    name='ATR %',\n",
        "    yaxis='y2',\n",
        "    line=dict(color='orange')\n",
        "))\n",
        "\n",
        "# Optional: Highlight Buy Signal Dates (even though there are none now)\n",
        "fig.add_trace(go.Scatter(\n",
        "    x=aapl_merged_data.loc[aapl_merged_data['Buy_Signal'], 'Date'],\n",
        "    y=aapl_merged_data.loc[aapl_merged_data['Buy_Signal'], '5_day_avg_sentiment_norm'],\n",
        "    mode='markers',\n",
        "    marker=dict(color='green', size=10, symbol='star'),\n",
        "    name='Buy Signal'\n",
        "))\n",
        "\n",
        "# Add dual axis layout\n",
        "fig.update_layout(\n",
        "    title=\"5-Day Sentiment vs ATR % (with Buy Signals)\",\n",
        "    xaxis_title='Date',\n",
        "    yaxis=dict(title='5-Day Avg Sentiment'),\n",
        "    yaxis2=dict(title='ATR %', overlaying='y', side='right'),\n",
        "    legend=dict(x=0.01, y=0.99),\n",
        "    height=500\n",
        ")\n",
        "\n",
        "fig.show()"
      ]
    },
    {
      "cell_type": "code",
      "execution_count": 60,
      "metadata": {},
      "outputs": [
        {
          "name": "stdout",
          "output_type": "stream",
          "text": [
            "Final Capital: $100057.01 \n",
            "Total Return: $57.01 \n",
            "Total Trades: 1\n",
            "Average Profit per Trade: $-24.62\n"
          ]
        }
      ],
      "source": [
        "print(backtest(aapl_merged_data, 'AAPL')) #w/ sentiment data"
      ]
    },
    {
      "cell_type": "code",
      "execution_count": 61,
      "metadata": {},
      "outputs": [
        {
          "name": "stdout",
          "output_type": "stream",
          "text": [
            "Final Capital: $101198.29 \n",
            "Total Return: $1198.29 \n",
            "Total Trades: 66\n",
            "Average Profit per Trade: $18.16\n"
          ]
        }
      ],
      "source": [
        "print(backtest(aapl, 'AAPL')) #w/o sentiment data"
      ]
    },
    {
      "cell_type": "code",
      "execution_count": 62,
      "metadata": {},
      "outputs": [
        {
          "name": "stdout",
          "output_type": "stream",
          "text": [
            "Start                         2019-01-02 00:00:00\n",
            "End                           2025-03-04 00:00:00\n",
            "Period                                       1551\n",
            "Start Value                              100000.0\n",
            "End Value                           255472.954051\n",
            "Total Return [%]                       155.472954\n",
            "Benchmark Return [%]                   526.354355\n",
            "Max Gross Exposure [%]                      100.0\n",
            "Total Fees Paid                        23330.2112\n",
            "Max Drawdown [%]                        14.949616\n",
            "Max Drawdown Duration                       238.0\n",
            "Total Trades                                   66\n",
            "Total Closed Trades                            66\n",
            "Total Open Trades                               0\n",
            "Open Trade PnL                                0.0\n",
            "Win Rate [%]                            48.484848\n",
            "Best Trade [%]                          18.319731\n",
            "Worst Trade [%]                         -5.776766\n",
            "Avg Winning Trade [%]                     5.44886\n",
            "Avg Losing Trade [%]                    -2.071776\n",
            "Avg Winning Trade Duration                16.5625\n",
            "Avg Losing Trade Duration                4.176471\n",
            "Profit Factor                            2.213935\n",
            "Expectancy                            2355.650819\n",
            "dtype: object\n"
          ]
        },
        {
          "name": "stderr",
          "output_type": "stream",
          "text": [
            "/Users/dinarazhorabek/Library/Python/3.9/lib/python/site-packages/vectorbt/generic/stats_builder.py:396: UserWarning:\n",
            "\n",
            "Metric 'sharpe_ratio' requires frequency to be set\n",
            "\n",
            "/Users/dinarazhorabek/Library/Python/3.9/lib/python/site-packages/vectorbt/generic/stats_builder.py:396: UserWarning:\n",
            "\n",
            "Metric 'calmar_ratio' requires frequency to be set\n",
            "\n",
            "/Users/dinarazhorabek/Library/Python/3.9/lib/python/site-packages/vectorbt/generic/stats_builder.py:396: UserWarning:\n",
            "\n",
            "Metric 'omega_ratio' requires frequency to be set\n",
            "\n",
            "/Users/dinarazhorabek/Library/Python/3.9/lib/python/site-packages/vectorbt/generic/stats_builder.py:396: UserWarning:\n",
            "\n",
            "Metric 'sortino_ratio' requires frequency to be set\n",
            "\n"
          ]
        },
        {
          "data": {
            "text/html": [
              "<iframe\n",
              "    scrolling=\"no\"\n",
              "    width=\"770px\"\n",
              "    height=\"980\"\n",
              "    src=\"iframe_figures/figure_62.html\"\n",
              "    frameborder=\"0\"\n",
              "    allowfullscreen\n",
              "></iframe>\n"
            ]
          },
          "metadata": {},
          "output_type": "display_data"
        }
      ],
      "source": [
        "# without centiment data\n",
        "aapl_portfolio = f_portfolio(aapl, 'AAPL')\n",
        "\n",
        "print(aapl_portfolio.stats())\n",
        "aapl_portfolio.plot().show()"
      ]
    },
    {
      "attachments": {},
      "cell_type": "markdown",
      "metadata": {},
      "source": [
        "Based on the results from applying the trading strategy to the Apple (AAPL) ticker, we can reasonably conclude that the strategy does work on peers like AAPL. The strategy delivered a total return of approximately 282% over the backtest period (2019–2025), compared to a benchmark return of about 526%, which indicates it captured a significant portion of the upward trend while actively managing trades. Although it underperformed the benchmark in absolute terms, this is typical of signal-driven strategies that trade in and out of the market. The profit factor of 2.11, expectancy of 4204, and a win rate of 45.5% suggest the strategy was profitable overall. Additionally, the drawdown was moderate (20.87%), reflecting a reasonable risk exposure relative to the potential reward.\n",
        "\n",
        "The cumulative returns graph further supports this interpretation. The strategy closely follows the broader market trend, generating consistent gains and outperforming during certain periods. The trade PnL distribution shows a good number of winning trades with healthy profitability, and although there were losses, the downside was generally contained. Therefore, this peer comparison confirms that the strategy generalizes reasonably well beyond TSLA, making it a potentially viable approach for other high-liquidity technology stocks like AAPL."
      ]
    }
  ],
  "metadata": {
    "colab": {
      "provenance": []
    },
    "kernelspec": {
      "display_name": "Python 3",
      "language": "python",
      "name": "python3"
    },
    "language_info": {
      "codemirror_mode": {
        "name": "ipython",
        "version": 3
      },
      "file_extension": ".py",
      "mimetype": "text/x-python",
      "name": "python",
      "nbconvert_exporter": "python",
      "pygments_lexer": "ipython3",
      "version": "3.9.6"
    }
  },
  "nbformat": 4,
  "nbformat_minor": 0
}
